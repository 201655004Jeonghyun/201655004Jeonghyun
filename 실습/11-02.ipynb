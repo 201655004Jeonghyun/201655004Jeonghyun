{
 "cells": [
  {
   "cell_type": "code",
   "execution_count": 3,
   "id": "8c8523f9-22db-43ed-8fea-17ac3e968e46",
   "metadata": {},
   "outputs": [
    {
     "name": "stdout",
     "output_type": "stream",
     "text": [
      "<class 'datetime.datetime'>\n"
     ]
    }
   ],
   "source": [
    "\"\"\"\n",
    "Native python dates and times\n",
    "\"\"\"\n",
    "\n",
    "#build a date using the datetime type\n",
    "\n",
    "from datetime import datetime\n",
    "\n",
    "t=datetime(year=2021, month=10, day=28)\n",
    "print(type(t))"
   ]
  },
  {
   "cell_type": "code",
   "execution_count": 4,
   "id": "572df629-d0bd-41a3-9bfa-d533f6edb5d6",
   "metadata": {},
   "outputs": [
    {
     "name": "stdout",
     "output_type": "stream",
     "text": [
      "2021-10-28 00:00:00\n"
     ]
    }
   ],
   "source": [
    "#parse a date from a string\n",
    "\n",
    "from dateutil import parser\n",
    "date=parser.parse(\"28 of october, 2021\")\n",
    "print(date)"
   ]
  },
  {
   "cell_type": "code",
   "execution_count": 5,
   "id": "3b57efcf-f804-4599-9c9c-a8d054a89cd9",
   "metadata": {},
   "outputs": [
    {
     "data": {
      "text/plain": [
       "'Thursday'"
      ]
     },
     "execution_count": 5,
     "metadata": {},
     "output_type": "execute_result"
    }
   ],
   "source": [
    "#print the day of the week\n",
    "\n",
    "date.strftime('%A')"
   ]
  },
  {
   "cell_type": "code",
   "execution_count": 6,
   "id": "2cf56088-a357-46ae-90d9-8a83082d2750",
   "metadata": {},
   "outputs": [
    {
     "name": "stdout",
     "output_type": "stream",
     "text": [
      "2021-10-27T10:11\n"
     ]
    }
   ],
   "source": [
    "\"\"\"\n",
    "Types Arrays of Times:Numpy's datetime64\n",
    "\"\"\"\n",
    "\n",
    "import numpy as np\n",
    "\n",
    "#create datetime64 using array()\n",
    "\n",
    "date=np.array(['2021-10-27','2021-10-28'],dtype=np.datetime64)\n",
    "type(date[0])\n",
    "\n",
    "#use datetime64()\n",
    "\n",
    "date=np.datetime64('2021-10-27 10:11')\n",
    "print(date)"
   ]
  },
  {
   "cell_type": "code",
   "execution_count": 7,
   "id": "33998ee9-1a45-41b4-99c5-51b747fb49ec",
   "metadata": {},
   "outputs": [
    {
     "data": {
      "text/plain": [
       "array(['2021-10-27T10:11', '2021-10-27T10:12', '2021-10-27T10:13',\n",
       "       '2021-10-27T10:14', '2021-10-27T10:15', '2021-10-27T10:16',\n",
       "       '2021-10-27T10:17', '2021-10-27T10:18', '2021-10-27T10:19',\n",
       "       '2021-10-27T10:20', '2021-10-27T10:21', '2021-10-27T10:22'],\n",
       "      dtype='datetime64[m]')"
      ]
     },
     "execution_count": 7,
     "metadata": {},
     "output_type": "execute_result"
    }
   ],
   "source": [
    "# we can quickly do vector operations on datetime64\n",
    "date+np.arange(12)"
   ]
  },
  {
   "cell_type": "code",
   "execution_count": 8,
   "id": "2a10cf7e-12dd-4198-b4bb-42c304873af7",
   "metadata": {},
   "outputs": [],
   "source": [
    "#Minite-based datetime\n",
    "\n",
    "date=np.datetime64('2021-10-27 10:11:30.20','ns')"
   ]
  },
  {
   "cell_type": "code",
   "execution_count": 9,
   "id": "ac0cd334-b486-4935-a9ae-5beff3ffab83",
   "metadata": {},
   "outputs": [
    {
     "name": "stdout",
     "output_type": "stream",
     "text": [
      "2021-10-27T09:27:10.200000000\n"
     ]
    }
   ],
   "source": [
    "#Nanosecond-based datetime\n",
    "\n",
    "t = np.datetime64('2021-10-27 09:27:10.20', 'ns')\n",
    "print(t)"
   ]
  },
  {
   "cell_type": "code",
   "execution_count": 10,
   "id": "8bdb2098-cd3a-48bc-87a1-7592049ef2af",
   "metadata": {},
   "outputs": [
    {
     "name": "stdout",
     "output_type": "stream",
     "text": [
      "2021-10-27 00:00:00\n",
      "<class 'pandas._libs.tslibs.timestamps.Timestamp'>\n"
     ]
    }
   ],
   "source": [
    "\"\"\"\n",
    "dates and times in pandas\n",
    "\"\"\"\n",
    "\n",
    "import pandas as pd\n",
    "\n",
    "#parse a string date in pandas\n",
    "\n",
    "date=pd.to_datetime(\"27th of october, 2021\")\n",
    "print(date)\n",
    "print(type(date))"
   ]
  },
  {
   "cell_type": "code",
   "execution_count": 11,
   "id": "f7775915-cf8f-4f51-a738-c9224d0038bb",
   "metadata": {},
   "outputs": [
    {
     "name": "stdout",
     "output_type": "stream",
     "text": [
      "Wednesday\n"
     ]
    }
   ],
   "source": [
    "#Output the day of the week\n",
    "\n",
    "print(date.strftime('%A'))"
   ]
  },
  {
   "cell_type": "code",
   "execution_count": 12,
   "id": "b6df1f55-db69-487b-82ff-02828b47ca75",
   "metadata": {},
   "outputs": [
    {
     "data": {
      "text/plain": [
       "DatetimeIndex([          '2021-10-27 00:00:00',\n",
       "               '2021-10-27 00:00:00.000000001',\n",
       "               '2021-10-27 00:00:00.000000002',\n",
       "               '2021-10-27 00:00:00.000000003',\n",
       "               '2021-10-27 00:00:00.000000004',\n",
       "               '2021-10-27 00:00:00.000000005',\n",
       "               '2021-10-27 00:00:00.000000006',\n",
       "               '2021-10-27 00:00:00.000000007',\n",
       "               '2021-10-27 00:00:00.000000008',\n",
       "               '2021-10-27 00:00:00.000000009',\n",
       "               '2021-10-27 00:00:00.000000010',\n",
       "               '2021-10-27 00:00:00.000000011'],\n",
       "              dtype='datetime64[ns]', freq=None)"
      ]
     },
     "execution_count": 12,
     "metadata": {},
     "output_type": "execute_result"
    }
   ],
   "source": [
    "#Numpy style vectorized operations\n",
    "\n",
    "date+pd.to_timedelta(np.arange(12))\n"
   ]
  },
  {
   "cell_type": "code",
   "execution_count": 13,
   "id": "b70003a1-d2b7-45bd-8791-5995bfdbb6f1",
   "metadata": {},
   "outputs": [
    {
     "name": "stdout",
     "output_type": "stream",
     "text": [
      "DatetimeIndex(['2021-10-27', '2021-10-28', '2021-10-29', '2021-10-30',\n",
      "               '2021-10-31', '2021-11-01', '2021-11-02'],\n",
      "              dtype='datetime64[ns]', freq=None)\n",
      "2021-10-27    0\n",
      "2021-10-28    1\n",
      "2021-10-29    2\n",
      "2021-10-30    3\n",
      "2021-10-31    4\n",
      "2021-11-01    5\n",
      "2021-11-02    6\n",
      "dtype: int64\n"
     ]
    }
   ],
   "source": [
    "\"\"\"\n",
    "pandas time series indexiing by time\n",
    "\"\"\"\n",
    "\n",
    "#indexing by timestamps\n",
    "ind=pd.DatetimeIndex(['2021-10-27','2021-10-28','2021-10-29','2021-10-30','2021-10-31','2021-11-01','2021-11-02'])\n",
    "print(ind)\n",
    "\n",
    "ser=pd.Series([0,1,2,3,4,5,6], index=ind)\n",
    "print(ser)"
   ]
  },
  {
   "cell_type": "code",
   "execution_count": 14,
   "id": "7b193118-6e4e-4d00-8e60-adfe66aeea2b",
   "metadata": {},
   "outputs": [
    {
     "name": "stdout",
     "output_type": "stream",
     "text": [
      "2021-10-27    0\n",
      "2021-10-28    1\n",
      "2021-10-29    2\n",
      "2021-10-30    3\n",
      "2021-10-31    4\n",
      "dtype: int64 \n",
      "\n",
      "2021-10-27    0\n",
      "2021-10-28    1\n",
      "2021-10-29    2\n",
      "2021-10-30    3\n",
      "2021-10-31    4\n",
      "dtype: int64\n"
     ]
    }
   ],
   "source": [
    "#Indexing patterns\n",
    "print(ser['2021-10-27':'2021-10-31'], '\\n')\n",
    "print(ser['2021-10'])"
   ]
  },
  {
   "cell_type": "code",
   "execution_count": 15,
   "id": "fa2f60d1-528a-4758-b96d-f644aeb66e2f",
   "metadata": {},
   "outputs": [
    {
     "name": "stdout",
     "output_type": "stream",
     "text": [
      "DatetimeIndex(['2015-07-03', '2015-07-04', '2015-07-06', '2015-07-07',\n",
      "               '2015-07-08'],\n",
      "              dtype='datetime64[ns]', freq=None)\n"
     ]
    }
   ],
   "source": [
    "\"\"\"\n",
    "pandas time series data structure\n",
    "\"\"\"\n",
    "\n",
    "#Timestamp and DatetimeIndex\n",
    "dates=pd.to_datetime([datetime(2015,7,3),\"4th of july, 2015\", '2015-jul-6','07-07-2015','20150708'])\n",
    "print(dates)"
   ]
  },
  {
   "cell_type": "code",
   "execution_count": 16,
   "id": "3ec5671b-ad2b-43c3-b8aa-9e54d65b95f7",
   "metadata": {},
   "outputs": [
    {
     "data": {
      "text/plain": [
       "Period('2021-10-25/2021-10-31', 'W-SUN')"
      ]
     },
     "execution_count": 16,
     "metadata": {},
     "output_type": "execute_result"
    }
   ],
   "source": [
    "#datetimeindex -> periodindex with to_periood()\n",
    "date.to_period('w') #d도 가능"
   ]
  },
  {
   "cell_type": "code",
   "execution_count": 17,
   "id": "c678ad6a-a936-434a-b0e9-2fc6eb3b49a7",
   "metadata": {},
   "outputs": [
    {
     "data": {
      "text/plain": [
       "TimedeltaIndex(['0 days', '1 days', '3 days', '4 days', '5 days'], dtype='timedelta64[ns]', freq=None)"
      ]
     },
     "execution_count": 17,
     "metadata": {},
     "output_type": "execute_result"
    }
   ],
   "source": [
    "#timedeltaindex\n",
    "dates-dates[0]"
   ]
  },
  {
   "cell_type": "code",
   "execution_count": 18,
   "id": "f844a14d-ea2d-43d4-a06b-ea0d197156bb",
   "metadata": {},
   "outputs": [
    {
     "data": {
      "text/plain": [
       "DatetimeIndex(['2021-10-27', '2021-10-28', '2021-10-29', '2021-10-30',\n",
       "               '2021-10-31'],\n",
       "              dtype='datetime64[ns]', freq='D')"
      ]
     },
     "execution_count": 18,
     "metadata": {},
     "output_type": "execute_result"
    }
   ],
   "source": [
    "\"\"\"\n",
    "Regular Sequence\n",
    "\"\"\"\n",
    "#pd.date_range(). default freq:day\n",
    "pd.date_range('2021-10-27', '2021-10-31')"
   ]
  },
  {
   "cell_type": "code",
   "execution_count": 19,
   "id": "b30d3157-700b-4237-957f-1303ac3e12d7",
   "metadata": {},
   "outputs": [
    {
     "data": {
      "text/plain": [
       "DatetimeIndex(['2021-10-27', '2021-10-28', '2021-10-29', '2021-10-30',\n",
       "               '2021-10-31'],\n",
       "              dtype='datetime64[ns]', freq='D')"
      ]
     },
     "execution_count": 19,
     "metadata": {},
     "output_type": "execute_result"
    }
   ],
   "source": [
    "#use startpoint an num, of periods\n",
    "\n",
    "pd.date_range('2021-10-27', periods=5)"
   ]
  },
  {
   "cell_type": "code",
   "execution_count": 20,
   "id": "17bfed38-ec9a-481c-a128-291fde1b6116",
   "metadata": {},
   "outputs": [
    {
     "data": {
      "text/plain": [
       "DatetimeIndex(['2021-10-27 00:00:00', '2021-10-27 01:00:00',\n",
       "               '2021-10-27 02:00:00', '2021-10-27 03:00:00',\n",
       "               '2021-10-27 04:00:00', '2021-10-27 05:00:00',\n",
       "               '2021-10-27 06:00:00', '2021-10-27 07:00:00',\n",
       "               '2021-10-27 08:00:00', '2021-10-27 09:00:00',\n",
       "               '2021-10-27 10:00:00', '2021-10-27 11:00:00'],\n",
       "              dtype='datetime64[ns]', freq='H')"
      ]
     },
     "execution_count": 20,
     "metadata": {},
     "output_type": "execute_result"
    }
   ],
   "source": [
    "# Change the frequency\n",
    "\n",
    "pd.date_range('2021-10-27', periods=12, freq='H')"
   ]
  },
  {
   "cell_type": "code",
   "execution_count": 21,
   "id": "ac103842-ba26-4162-a8e7-583a49885d15",
   "metadata": {},
   "outputs": [
    {
     "data": {
      "text/plain": [
       "PeriodIndex(['2021-10', '2021-11', '2021-12', '2022-01', '2022-02', '2022-03',\n",
       "             '2022-04', '2022-05', '2022-06', '2022-07', '2022-08', '2022-09'],\n",
       "            dtype='period[M]', freq='M')"
      ]
     },
     "execution_count": 21,
     "metadata": {},
     "output_type": "execute_result"
    }
   ],
   "source": [
    "# pd.period_range()\n",
    "\n",
    "pd.period_range('2021-10', periods=12, freq='M')"
   ]
  },
  {
   "cell_type": "code",
   "execution_count": 22,
   "id": "c40085dd-3097-40ac-bead-f37c08dda382",
   "metadata": {},
   "outputs": [
    {
     "data": {
      "text/plain": [
       "TimedeltaIndex(['0 days 00:00:00', '0 days 01:00:00', '0 days 02:00:00',\n",
       "                '0 days 03:00:00', '0 days 04:00:00', '0 days 05:00:00',\n",
       "                '0 days 06:00:00', '0 days 07:00:00', '0 days 08:00:00',\n",
       "                '0 days 09:00:00'],\n",
       "               dtype='timedelta64[ns]', freq='H')"
      ]
     },
     "execution_count": 22,
     "metadata": {},
     "output_type": "execute_result"
    }
   ],
   "source": [
    "# pd.timedelta_range()\n",
    "\n",
    "pd.timedelta_range(0, periods=10, freq='H')"
   ]
  },
  {
   "cell_type": "code",
   "execution_count": 24,
   "id": "93d5b8f8-55d0-4d01-87f1-bcfb83590432",
   "metadata": {},
   "outputs": [
    {
     "data": {
      "text/plain": [
       "DatetimeIndex(['2021-11-01', '2021-11-02', '2021-11-03', '2021-11-04',\n",
       "               '2021-11-05', '2021-11-06', '2021-11-07', '2021-11-08',\n",
       "               '2021-11-09', '2021-11-10'],\n",
       "              dtype='datetime64[ns]', freq='D')"
      ]
     },
     "execution_count": 24,
     "metadata": {},
     "output_type": "execute_result"
    }
   ],
   "source": [
    "#8 add \n",
    "\"\"\"\n",
    "Frequencies and offsets\n",
    "\"\"\"\n",
    "\n",
    "#Frequency codes\n",
    "\n",
    "pd.date_range('2021-11-01', periods=10, freq='D') #freq='M'=month, 'H'=hour"
   ]
  },
  {
   "cell_type": "code",
   "execution_count": 26,
   "id": "21ccbfbc-87e5-405a-83d6-a5e4c5839f56",
   "metadata": {},
   "outputs": [
    {
     "data": {
      "text/plain": [
       "DatetimeIndex(['2022-01-01', '2022-04-01', '2022-07-01', '2022-10-01',\n",
       "               '2023-01-01', '2023-04-01', '2023-07-01', '2023-10-01',\n",
       "               '2024-01-01', '2024-04-01'],\n",
       "              dtype='datetime64[ns]', freq='QS-JAN')"
      ]
     },
     "execution_count": 26,
     "metadata": {},
     "output_type": "execute_result"
    }
   ],
   "source": [
    "#Adding the suffix 'S ' : set into the begging-based sequence\n",
    "pd.date_range('2021-11-02', periods=10, freq='QS') #qs는 분기초 ,Q는 분기말"
   ]
  },
  {
   "cell_type": "code",
   "execution_count": 30,
   "id": "6804ba47-1345-4727-a9a4-17a0d2ae290f",
   "metadata": {},
   "outputs": [
    {
     "data": {
      "text/plain": [
       "DatetimeIndex(['2021-11-01 00:00:00', '2021-11-01 02:30:00',\n",
       "               '2021-11-01 05:00:00', '2021-11-01 07:30:00',\n",
       "               '2021-11-01 10:00:00', '2021-11-01 12:30:00',\n",
       "               '2021-11-01 15:00:00', '2021-11-01 17:30:00',\n",
       "               '2021-11-01 20:00:00'],\n",
       "              dtype='datetime64[ns]', freq='150T')"
      ]
     },
     "execution_count": 30,
     "metadata": {},
     "output_type": "execute_result"
    }
   ],
   "source": [
    "#Combining wuth numbers\n",
    "pd.date_range('2021-11-01', periods=9, freq='2H30T') #영업일 기준, freq='B'"
   ]
  },
  {
   "cell_type": "code",
   "execution_count": 31,
   "id": "be9fdfb4-5708-47e0-830a-f6f83a696861",
   "metadata": {},
   "outputs": [
    {
     "data": {
      "text/plain": [
       "Timestamp('2021-11-02 04:28:30')"
      ]
     },
     "execution_count": 31,
     "metadata": {},
     "output_type": "execute_result"
    }
   ],
   "source": [
    "#Offsets\n",
    "\n",
    "from pandas.tseries.offsets import DateOffset\n",
    "ts=pd.Timestamp('2021-10-31 12:28:30')\n",
    "ts+DateOffset(hours=40)"
   ]
  },
  {
   "cell_type": "code",
   "execution_count": 32,
   "id": "7520dd08-4b8a-4586-be22-7da34247dd50",
   "metadata": {},
   "outputs": [
    {
     "data": {
      "text/plain": [
       "Timestamp('1950-04-24 17:00:00')"
      ]
     },
     "execution_count": 32,
     "metadata": {},
     "output_type": "execute_result"
    }
   ],
   "source": [
    "#Offsets(minus)\n",
    "ts-DateOffset(years=71, month=4, days=5, hours=19, minutes=28, seconds=30)"
   ]
  },
  {
   "cell_type": "code",
   "execution_count": 33,
   "id": "a4247c58-0adf-4866-8d16-1c875986c5f5",
   "metadata": {},
   "outputs": [
    {
     "name": "stdout",
     "output_type": "stream",
     "text": [
      "Collecting pandas_datareader\n",
      "  Downloading pandas_datareader-0.10.0-py3-none-any.whl (109 kB)\n",
      "Requirement already satisfied: requests>=2.19.0 in c:\\users\\user\\anaconda3\\lib\\site-packages (from pandas_datareader) (2.25.1)\n",
      "Requirement already satisfied: pandas>=0.23 in c:\\users\\user\\anaconda3\\lib\\site-packages (from pandas_datareader) (1.2.4)\n",
      "Requirement already satisfied: lxml in c:\\users\\user\\anaconda3\\lib\\site-packages (from pandas_datareader) (4.6.3)\n",
      "Requirement already satisfied: pytz>=2017.3 in c:\\users\\user\\anaconda3\\lib\\site-packages (from pandas>=0.23->pandas_datareader) (2021.1)\n",
      "Requirement already satisfied: python-dateutil>=2.7.3 in c:\\users\\user\\anaconda3\\lib\\site-packages (from pandas>=0.23->pandas_datareader) (2.8.1)\n",
      "Requirement already satisfied: numpy>=1.16.5 in c:\\users\\user\\anaconda3\\lib\\site-packages (from pandas>=0.23->pandas_datareader) (1.20.1)\n",
      "Requirement already satisfied: six>=1.5 in c:\\users\\user\\anaconda3\\lib\\site-packages (from python-dateutil>=2.7.3->pandas>=0.23->pandas_datareader) (1.15.0)\n",
      "Requirement already satisfied: idna<3,>=2.5 in c:\\users\\user\\anaconda3\\lib\\site-packages (from requests>=2.19.0->pandas_datareader) (2.10)\n",
      "Requirement already satisfied: urllib3<1.27,>=1.21.1 in c:\\users\\user\\anaconda3\\lib\\site-packages (from requests>=2.19.0->pandas_datareader) (1.26.4)\n",
      "Requirement already satisfied: certifi>=2017.4.17 in c:\\users\\user\\anaconda3\\lib\\site-packages (from requests>=2.19.0->pandas_datareader) (2020.12.5)\n",
      "Requirement already satisfied: chardet<5,>=3.0.2 in c:\\users\\user\\anaconda3\\lib\\site-packages (from requests>=2.19.0->pandas_datareader) (4.0.0)\n",
      "Installing collected packages: pandas-datareader\n",
      "Successfully installed pandas-datareader-0.10.0\n",
      "Note: you may need to restart the kernel to use updated packages.\n"
     ]
    }
   ],
   "source": [
    "pip install pandas_datareader"
   ]
  },
  {
   "cell_type": "code",
   "execution_count": 36,
   "id": "50b4d75b-bc4f-469b-b2f5-36e68fef0fdb",
   "metadata": {},
   "outputs": [
    {
     "name": "stdout",
     "output_type": "stream",
     "text": [
      "                   High          Low         Open        Close      Volume  \\\n",
      "Date                                                                         \n",
      "2004-08-19    51.835709    47.800831    49.813290    49.982655  44871361.0   \n",
      "2004-08-20    54.336334    50.062355    50.316402    53.952770  22942874.0   \n",
      "2004-08-23    56.528118    54.321388    55.168217    54.495735  18342897.0   \n",
      "2004-08-24    55.591629    51.591621    55.412300    52.239197  15319808.0   \n",
      "2004-08-25    53.798351    51.746044    52.284027    52.802086   9232276.0   \n",
      "...                 ...          ...          ...          ...         ...   \n",
      "2020-12-24  1746.000000  1729.109985  1735.000000  1738.849976    346800.0   \n",
      "2020-12-28  1790.728027  1746.334961  1751.635010  1776.089966   1393000.0   \n",
      "2020-12-29  1792.439941  1756.089966  1787.790039  1758.719971   1299400.0   \n",
      "2020-12-30  1765.094971  1725.599976  1762.010010  1739.520020   1306100.0   \n",
      "2020-12-31  1758.930054  1735.420044  1735.420044  1751.880005   1011900.0   \n",
      "\n",
      "              Adj Close  \n",
      "Date                     \n",
      "2004-08-19    49.982655  \n",
      "2004-08-20    53.952770  \n",
      "2004-08-23    54.495735  \n",
      "2004-08-24    52.239197  \n",
      "2004-08-25    52.802086  \n",
      "...                 ...  \n",
      "2020-12-24  1738.849976  \n",
      "2020-12-28  1776.089966  \n",
      "2020-12-29  1758.719971  \n",
      "2020-12-30  1739.520020  \n",
      "2020-12-31  1751.880005  \n",
      "\n",
      "[4122 rows x 6 columns]\n"
     ]
    }
   ],
   "source": [
    "\"\"\"\n",
    "Time Series-specific Operations\n",
    "\"\"\"\n",
    "\n",
    "from pandas_datareader import data\n",
    "\n",
    "goog=data.DataReader('GOOG', start='2004', end='2021', data_source='yahoo' )\n",
    "print(goog)\n",
    "\n",
    "goog=goog['Close']\n",
    "#Get time series of stock prices form yahoo fiance\n",
    "type=(goog)"
   ]
  },
  {
   "cell_type": "code",
   "execution_count": 37,
   "id": "4e4f6b9c-6b7b-494a-9a43-74b0161d60fb",
   "metadata": {},
   "outputs": [
    {
     "data": {
      "image/png": "[encoded data removed]",
      "text/plain": [
       "<Figure size 432x288 with 1 Axes>"
      ]
     },
     "metadata": {
      "needs_background": "light"
     },
     "output_type": "display_data"
    }
   ],
   "source": [
    "#use only closing prices\n",
    "goog.plot();"
   ]
  },
  {
   "cell_type": "code",
   "execution_count": 38,
   "id": "659ea1e4-8a0f-4243-9693-5296aaadb827",
   "metadata": {},
   "outputs": [],
   "source": [
    "#Visualization setup\n",
    "\n",
    "%matplotlib inline\n",
    "import matplotlib.pyplot as plt\n",
    "import seaborn; seaborn.set() #set plot styles\n",
    "%config InlineBacjebd.figure_format='svg'"
   ]
  },
  {
   "cell_type": "code",
   "execution_count": null,
   "id": "c218388c-3308-4d12-89eb-d879b443f419",
   "metadata": {},
   "outputs": [],
   "source": [
    "#plotting"
   ]
  },
  {
   "cell_type": "code",
   "execution_count": 43,
   "id": "35363662-d7b5-4083-8461-b7f7935e0fd9",
   "metadata": {},
   "outputs": [
    {
     "data": {
      "text/plain": [
       "Date\n",
       "2004-08-19 00:00:00      49.982655\n",
       "2004-08-19 01:00:00            NaN\n",
       "2004-08-19 02:00:00            NaN\n",
       "2004-08-19 03:00:00            NaN\n",
       "2004-08-19 04:00:00            NaN\n",
       "                          ...     \n",
       "2020-12-30 20:00:00            NaN\n",
       "2020-12-30 21:00:00            NaN\n",
       "2020-12-30 22:00:00            NaN\n",
       "2020-12-30 23:00:00            NaN\n",
       "2020-12-31 00:00:00    1751.880005\n",
       "Freq: H, Name: Close, Length: 143473, dtype: float64"
      ]
     },
     "execution_count": 43,
     "metadata": {},
     "output_type": "execute_result"
    }
   ],
   "source": [
    "#Resampling(down sampling)\n",
    "goog.resample('Q').median() #10000000 극단 값하면 평균값 적절x\n",
    "\n",
    "#Resampling (up sampling)\n",
    "goog.resample('H').max()"
   ]
  },
  {
   "cell_type": "code",
   "execution_count": null,
   "id": "67d6aef1-5c2b-4e6e-8470-1450ac6e3d36",
   "metadata": {},
   "outputs": [],
   "source": [
    "\"\"\"\n",
    "Time-shists\n",
    "\"\"\"\n"
   ]
  },
  {
   "cell_type": "code",
   "execution_count": 44,
   "id": "47eb2a11-86ab-4a07-aeaf-b44df385b9ef",
   "metadata": {},
   "outputs": [
    {
     "data": {
      "image/png": "[encoded data removed]",
      "text/plain": [
       "<Figure size 432x288 with 1 Axes>"
      ]
     },
     "metadata": {},
     "output_type": "display_data"
    }
   ],
   "source": [
    "\"\"\"\n",
    "Rolling Windows\n",
    "\"\"\"\n",
    "\n",
    "rolling=goog.rolling(365, center=True)\n",
    "\n",
    "data=pd.DataFrame({'input':goog, 'one year rolling_mean': rolling.mean(), 'one-year rolling_std': rolling.std()})\n",
    "ax=data.plot(style=['-', '--', ':'])\n",
    "ax.lines[0].set_alpha(0.3)"
   ]
  },
  {
   "cell_type": "code",
   "execution_count": null,
   "id": "8cf9b874-5392-4049-8110-f1c40fb00490",
   "metadata": {},
   "outputs": [],
   "source": []
  },
  {
   "cell_type": "code",
   "execution_count": null,
   "id": "f5e8cdcc-e830-4fc2-9205-fd718dd84fa9",
   "metadata": {},
   "outputs": [],
   "source": []
  }
 ],
 "metadata": {
  "kernelspec": {
   "display_name": "Python 3",
   "language": "python",
   "name": "python3"
  },
  "language_info": {
   "codemirror_mode": {
    "name": "ipython",
    "version": 3
   },
   "file_extension": ".py",
   "mimetype": "text/x-python",
   "name": "python",
   "nbconvert_exporter": "python",
   "pygments_lexer": "ipython3",
   "version": "3.8.8"
  }
 },
 "nbformat": 4,
 "nbformat_minor": 5
}
