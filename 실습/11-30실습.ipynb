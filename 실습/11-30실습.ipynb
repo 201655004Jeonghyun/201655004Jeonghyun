{
 "cells": [
  {
   "cell_type": "code",
   "execution_count": null,
   "id": "d669613e-ff80-492f-afbb-89a977f44fb5",
   "metadata": {},
   "outputs": [],
   "source": [
    "import pandas as pd\n",
    "import numpy as np\n",
    "\n",
    "\"\"\"\n",
    "Data Loading\n",
    "\"\"\"\n",
    "\n",
    "# Read in data into a dataframe \n",
    "df = pd.read_csv('data/ny_energy_2016.csv')\n",
    "\n",
    "df.shape"
   ]
  },
  {
   "cell_type": "code",
   "execution_count": null,
   "id": "41e14fd9-423a-4ef8-8457-5f720ff69117",
   "metadata": {},
   "outputs": [],
   "source": [
    "# Print the information of the first instance\n",
    "df.info()"
   ]
  },
  {
   "cell_type": "code",
   "execution_count": null,
   "id": "59fe29b1-2137-4d76-b8f0-2b06216f8ab0",
   "metadata": {},
   "outputs": [],
   "source": [
    "# Converts columns that should be numeric to float \n",
    "\n",
    "for col in list(df.columns):\n",
    "    # Select columns that should be numeric\n",
    "    if('ft²' in col or \n",
    "        'kBtu' in col or\n",
    "        'Metric Tons CO2e' in col or\n",
    "        'kWh' in col or\n",
    "        'therms' in col or\n",
    "        'gal' in col or\n",
    "        'Score' in col):\n",
    "            \n",
    "            # Convert the data type to float\n",
    "            df[col] = df[col].astype(float)\n",
    "\n",
    "\n",
    "df.info()"
   ]
  },
  {
   "cell_type": "code",
   "execution_count": null,
   "id": "e7adb63e-46cd-4a7a-83f3-6f470434b47c",
   "metadata": {},
   "outputs": [],
   "source": [
    "\"\"\"\n",
    "Missing Values\n",
    "\"\"\"\n",
    "\n",
    "# Getting a sense of how many missing values are in each column\n",
    "ser_miss_cnt = df.isnull().sum().sort_values(ascending = False)\n",
    "ser_miss_rate = ser_miss_cnt / len(df)\n",
    "print(ser_miss_cnt)\n",
    "print(ser_miss_rate)"
   ]
  },
  {
   "cell_type": "code",
   "execution_count": null,
   "id": "2de9c9a3-764f-4b70-9b20-b961ea97fdfd",
   "metadata": {},
   "outputs": [],
   "source": [
    "# Remove any columns with more than threshold of missing rate\n",
    "threshold = 0.5\n",
    "\n",
    "print(ser_miss_rate[ser_miss_rate > 0.5])\n",
    "del_list = ser_miss_rate[ser_miss_rate > 0.5].index"
   ]
  },
  {
   "cell_type": "code",
   "execution_count": null,
   "id": "ad2a9c33-aff4-42c1-b2d3-7cef9d8ac9ce",
   "metadata": {},
   "outputs": [],
   "source": [
    "# Drop the columns\n",
    "df.drop(columns=del_list, inplace=True)\n",
    "df.head()"
   ]
  },
  {
   "cell_type": "code",
   "execution_count": null,
   "id": "a198cd29-aa54-4eed-b0c6-494e855db8da",
   "metadata": {},
   "outputs": [],
   "source": [
    "\"\"\"\n",
    "Exploratory Data Analysis\n",
    "\"\"\"\n",
    "\n",
    "# Visualization setup\n",
    "%matplotlib\n",
    "%config InlineBackend.figure_format = 'svg'\n",
    "\n",
    "from matplotlib import pyplot as plt\n",
    "plt.rcParams['figure.figsize'] = [10, 5]\n",
    "plt.ion() # enable the interactive mode\n",
    "\n",
    "import seaborn as sns\n",
    "sns.set()  # set plot styles"
   ]
  },
  {
   "cell_type": "code",
   "execution_count": null,
   "id": "bef43460-818f-42a8-aec3-1d09d6849f14",
   "metadata": {},
   "outputs": [],
   "source": [
    "# Rename the score\n",
    "df = df.rename(columns = {'ENERGY STAR Score': 'Score'})\n",
    "\n",
    "# Plot the histogram of the Energy Star Score\n",
    "plt.style.use('fivethirtyeight')\n",
    "plt.hist(df['Score'].dropna(), bins = 100, edgecolor = 'k')\n",
    "plt.xlabel('Score')\n",
    "plt.ylabel('Number of Buildings')\n",
    "plt.title('Energy Star Score Distribution')"
   ]
  },
  {
   "cell_type": "code",
   "execution_count": null,
   "id": "67d463c6-9d8d-486a-af35-078d884546da",
   "metadata": {},
   "outputs": [],
   "source": [
    "# Rename the score\n",
    "df = df.rename(columns = {'ENERGY STAR Score': 'Score'})\n",
    "\n",
    "# Plot the histogram of the Energy Star Score\n",
    "plt.style.use('fivethirtyeight')\n",
    "plt.hist(df['Score'].dropna(), bins = 100, edgecolor = 'k')\n",
    "plt.xlabel('Score')\n",
    "plt.ylabel('Number of Buildings')\n",
    "plt.title('Energy Star Score Distribution')"
   ]
  },
  {
   "cell_type": "code",
   "execution_count": null,
   "id": "9becf7a5-7b3c-461a-8809-9e11573deb61",
   "metadata": {},
   "outputs": [],
   "source": [
    "# Plot the histogram of Site EUI\n",
    "plt.hist(df['Site EUI (kBtu/ft²)'].dropna(), bins = 20, edgecolor = 'black')\n",
    "plt.xlabel('Site EUI')\n",
    "plt.ylabel('Count')\n",
    "plt.title('Site EUI Distribution')"
   ]
  },
  {
   "cell_type": "code",
   "execution_count": null,
   "id": "58cef4ff-6012-4ae7-aab6-9d00e36af794",
   "metadata": {},
   "outputs": [],
   "source": [
    "# Descriptive statistics\n",
    "df['Site EUI (kBtu/ft²)'].describe()"
   ]
  },
  {
   "cell_type": "code",
   "execution_count": null,
   "id": "8738b010-4b95-4e9c-87ac-c5331017ca93",
   "metadata": {},
   "outputs": [],
   "source": [
    "df['Site EUI (kBtu/ft²)'].dropna().sort_values().tail(10)"
   ]
  },
  {
   "cell_type": "code",
   "execution_count": null,
   "id": "bc3351dc-206f-4299-a2af-9d9b634843f6",
   "metadata": {},
   "outputs": [],
   "source": [
    "df.loc[df['Site EUI (kBtu/ft²)'] == 869265, :]"
   ]
  },
  {
   "cell_type": "code",
   "execution_count": null,
   "id": "eb560e68-9961-4a6a-acdd-5770bf85df2e",
   "metadata": {},
   "outputs": [],
   "source": [
    "\"\"\"\n",
    "Removing Outliers\n",
    "- IQR-based outlier detection and elimination\n",
    "- Definition of an extreme outlier:\n",
    "    x < Q1 - 3IQR or x > Q3 - 3IQR\n",
    "\"\"\"\n",
    "\n",
    "# Calculate Q1 and Q3\n",
    "q1 = df['Site EUI (kBtu/ft²)'].quantile(0.25)\n",
    "q3 = df['Site EUI (kBtu/ft²)'].quantile(0.75)\n",
    "\n",
    "print('Q1 =', q1)\n",
    "print('Q3 =', q3)"
   ]
  },
  {
   "cell_type": "code",
   "execution_count": null,
   "id": "1ad9f069-62ea-4319-adbc-6220d536e8b1",
   "metadata": {},
   "outputs": [],
   "source": [
    "# IQR\n",
    "iqr = q3-q1\n",
    "\n",
    "# Upper/lower fences\n",
    "# 1.5: mild outliers\n",
    "# 3: extreme outliers\n",
    "\n",
    "upper_fence = q3 + 3*iqr\n",
    "lower_fence = q1 - 3*iqr\n",
    "\n",
    "print('IQR =', iqr)\n",
    "print('Upper fence =', upper_fence)\n",
    "print('Lower fence =', lower_fence)"
   ]
  },
  {
   "cell_type": "code",
   "execution_count": null,
   "id": "b9155b2a-e033-41b3-88d0-3b42691c07fd",
   "metadata": {},
   "outputs": [],
   "source": [
    "# Obtain a refined dataset (without extreme outliers)\n",
    "df = df[ (df['Site EUI (kBtu/ft²)'] < upper_fence) &\n",
    "      (df['Site EUI (kBtu/ft²)'] > lower_fence) ]\n",
    "\n",
    "df['Site EUI (kBtu/ft²)'].shape"
   ]
  },
  {
   "cell_type": "code",
   "execution_count": null,
   "id": "57a92e1b-a1a0-4377-a72b-f70f882212ff",
   "metadata": {},
   "outputs": [],
   "source": [
    "# Histogram of Site EUI after outlier eliminations\n",
    "\n",
    "plt.hist(df['Site EUI (kBtu/ft²)'].dropna(), bins = 20, edgecolor = 'black')\n",
    "plt.xlabel('Site EUI')\n",
    "plt.ylabel('Count')\n",
    "plt.title('Site EUI Distribution')"
   ]
  },
  {
   "cell_type": "code",
   "execution_count": null,
   "id": "37abe1fc-557d-4b88-a5bf-e58d1aab984c",
   "metadata": {},
   "outputs": [],
   "source": [
    "\"\"\"\n",
    "Looking for Relationships\n",
    "- Investigate categorical variables and the target variable (Energy Star Score)\n",
    "- Categorical variable 1: Largest Property Use Type: Property type of a building\n",
    "- Categorical variable 2: Borough\n",
    "\"\"\"\n",
    "\n",
    "# Relationships between property types and scores\n",
    "\n",
    "df_has_score = df.dropna(subset=['Score'])  # Select data with Score\n",
    "types = df_has_score['Largest Property Use Type'].value_counts()   # Count buildings by the property type\n",
    "types"
   ]
  },
  {
   "cell_type": "code",
   "execution_count": null,
   "id": "29327a5e-6e19-4fde-a8ec-b39d5d84fadb",
   "metadata": {},
   "outputs": [],
   "source": [
    "# Select property types whose frequencies are more than 100\n",
    "types_100 = types[types.values > 100].index\n",
    "types_100"
   ]
  },
  {
   "cell_type": "code",
   "execution_count": null,
   "id": "ca58fa20-e582-4782-8e37-0cf683191e48",
   "metadata": {},
   "outputs": [],
   "source": [
    "# Plot the distribution of Scores for property types\n",
    "\n",
    "for b_type in types_100:\n",
    "    # Select buildings by property type\n",
    "    subset = df[df['Largest Property Use Type'] == b_type]\n",
    "    \n",
    "    # Density plot of Energy Star Scores\n",
    "    sns.kdeplot(subset['Score'].dropna(),\n",
    "               label=b_type, alpha=0.8)\n",
    "\n",
    "plt.xlabel('Energy Star Scores')\n",
    "plt.ylabel('Density')\n",
    "plt.title('Density Plot of Energy Star Scores by Building Type')\n",
    "plt.legend(loc='best')"
   ]
  },
  {
   "cell_type": "code",
   "execution_count": null,
   "id": "5fc0f72f-a89b-452a-aa33-16f39aad0f42",
   "metadata": {},
   "outputs": [],
   "source": [
    "# Examine another categorical variable 'Borough'\n",
    "boroughs = df_has_score['Borough'].value_counts()  # Count buildings by the borough\n",
    "print(boroughs)\n",
    "\n",
    "boroughs = boroughs.index\n",
    "boroughs"
   ]
  },
  {
   "cell_type": "code",
   "execution_count": null,
   "id": "c0479cb0-10f2-4a62-8946-de71a5f9c5c4",
   "metadata": {},
   "outputs": [],
   "source": [
    "# Plot each borough distribution of scores\n",
    "for borough in boroughs:\n",
    "    # Select buildings by borough\n",
    "    subset = df[df['Borough'] == borough]\n",
    "    \n",
    "    # Density plot of Energy Star Scores\n",
    "    sns.kdeplot(subset['Score'].dropna(),\n",
    "               label=borough)\n",
    "\n",
    "plt.xlabel(\"Energy Star Scores\")\n",
    "plt.ylabel('Density')\n",
    "plt.title(\"Density Plot of Energy Star Scores by Borough\")\n",
    "plt.legend(loc='best')"
   ]
  },
  {
   "cell_type": "code",
   "execution_count": null,
   "id": "b60709df-7b62-4bbd-a546-e068b2a53bb5",
   "metadata": {},
   "outputs": [],
   "source": [
    "\"\"\"\n",
    "Correlations between Features and Target Variable\n",
    "\"\"\"\n",
    "\n",
    "# Calculate Pearson correlation coefficients between each feature and the target variable\n",
    "corr = df.corr()['Score'].sort_values()\n",
    "corr"
   ]
  },
  {
   "cell_type": "code",
   "execution_count": null,
   "id": "a51e420b-38cf-4435-8b56-8dadb6c6bfb8",
   "metadata": {},
   "outputs": [],
   "source": [
    "\"\"\"\n",
    "Two-Variable Plots\n",
    "- Variable 1: Site EUI\n",
    "- Variable 2: Largest Property Use Type\n",
    "- Target: Energy Star Score\n",
    "\"\"\"\n",
    "\n",
    "# Extract the building types\n",
    "df['Largest Property Use Type'] = df.dropna(subset = ['Score'])['Largest Property Use Type']"
   ]
  },
  {
   "cell_type": "code",
   "execution_count": null,
   "id": "4f2962ef-8a48-4b04-96d5-3a7bd79dae4a",
   "metadata": {},
   "outputs": [],
   "source": [
    "# Limit to building types with more than 100 observations\n",
    "print(types_100)\n",
    "df = df[df['Largest Property Use Type'].isin(types_100)]\n",
    "df.shape"
   ]
  },
  {
   "cell_type": "code",
   "execution_count": null,
   "id": "9d3dcaa7-9f40-41b4-ba86-ca1cbb9bb06f",
   "metadata": {},
   "outputs": [],
   "source": [
    "# Scatterplot of Score vs Site EUI\n",
    "\n",
    "sns.lmplot('Site EUI (kBtu/ft²)', 'Score',\n",
    "          hue='Largest Property Use Type', data=df,\n",
    "          scatter_kws={'alpha': 0.8}, fit_reg=False,\n",
    "          size=12, aspect=1.2)\n",
    "\n",
    "plt.xlabel('Site EUI')\n",
    "plt.ylabel('Enery Star Score')\n",
    "plt.title('Energy Star Score vs Site EUI')"
   ]
  },
  {
   "cell_type": "code",
   "execution_count": null,
   "id": "27ae7af8-8ec0-439e-b541-5eeb8f16794f",
   "metadata": {},
   "outputs": [],
   "source": [
    "\"\"\"\n",
    "Pairs Plot\n",
    "\"\"\"\n",
    "\n",
    "# Select the columns to plot\n",
    "df_plot = df[['Score',\n",
    "              'Site EUI (kBtu/ft²)',\n",
    "              'Weather Normalized Site EUI (kBtu/ft²)',\n",
    "              'Weather Normalized Source EUI (kBtu/ft²)',\n",
    "              'Source EUI (kBtu/ft²)',\n",
    "              'Weather Normalized Site Electricity Intensity (kWh/ft²)',\n",
    "              'Total GHG Emissions (Metric Tons CO2e)']]"
   ]
  },
  {
   "cell_type": "code",
   "execution_count": null,
   "id": "37eaed6c-a488-4bfd-b720-55989236c831",
   "metadata": {},
   "outputs": [],
   "source": [
    "# Rename columns\n",
    "df_plot.rename(columns={'Site EUI (kBtu/ft²)':\n",
    "                        'Site EUI',\n",
    "                       'Weather Normalized Site EUI (kBtu/ft²)':\n",
    "                        'Weather Norm Site EUI',\n",
    "                       'Weather Normalized Source EUI (kBtu/ft²)':\n",
    "                        'Weather Norm Src EUI)',\n",
    "                       'Source EUI (kBtu/ft²)':\n",
    "                        'Source EUI',\n",
    "                       'Weather Normalized Site Electricity Intensity (kWh/ft²)':\n",
    "                        'Weather Norm Site Elec Intensity',\n",
    "                       'Total GHG Emissions (Metric Tons CO2e)':\n",
    "                       'Total GHG Emissions'}, inplace=True)"
   ]
  },
  {
   "cell_type": "code",
   "execution_count": null,
   "id": "0f39dd25-18e5-4fc8-a714-850031487a03",
   "metadata": {},
   "outputs": [],
   "source": []
  },
  {
   "cell_type": "code",
   "execution_count": null,
   "id": "73295bf8-c03d-4413-aa03-4ac1683758d5",
   "metadata": {},
   "outputs": [],
   "source": []
  }
 ],
 "metadata": {
  "kernelspec": {
   "display_name": "Python 3",
   "language": "python",
   "name": "python3"
  },
  "language_info": {
   "codemirror_mode": {
    "name": "ipython",
    "version": 3
   },
   "file_extension": ".py",
   "mimetype": "text/x-python",
   "name": "python",
   "nbconvert_exporter": "python",
   "pygments_lexer": "ipython3",
   "version": "3.8.8"
  }
 },
 "nbformat": 4,
 "nbformat_minor": 5
}
