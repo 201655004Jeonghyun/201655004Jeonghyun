{
 "cells": [
  {
   "cell_type": "code",
   "execution_count": 10,
   "id": "f36aa9c5-64a8-4f9f-a286-e141da15762b",
   "metadata": {},
   "outputs": [
    {
     "name": "stdout",
     "output_type": "stream",
     "text": [
      "hello world!\n",
      "100\n",
      "3.14159\n",
      "My name is Jeon jeong Hyun\n"
     ]
    }
   ],
   "source": [
    "\"\"\"\n",
    "Hello world!\n",
    "\"\"\"\n",
    "print(\"hello world!\")\n",
    "\n",
    "print(100)\n",
    "\n",
    "pi=3.14159\n",
    "print(pi)\n",
    "\n",
    "introduce=\"My name is \"\n",
    "name = \"Jeon jeong Hyun\"\n",
    "print(introduce + name)"
   ]
  },
  {
   "cell_type": "code",
   "execution_count": 2,
   "id": "8772e756-297a-44c7-99a5-ebfef2cc0db5",
   "metadata": {},
   "outputs": [],
   "source": [
    "user_name=\"Jeon Jeong Hyun\"\n",
    "user_id=201655004\n",
    "user_email=\"rkdltm79@naver.com\"\n",
    "is_student=\"Yes\"\n",
    "user_favorite=\"FootBall\""
   ]
  },
  {
   "cell_type": "code",
   "execution_count": 28,
   "id": "8b371bed-ccc5-484b-a1c3-6b15886a7e61",
   "metadata": {},
   "outputs": [],
   "source": [
    "\"\"\"\n",
    "Data Types:Integers\n",
    "\"\"\"\n",
    "\n",
    "chairs=6\n",
    "Tv=2\n",
    "desk=3\n",
    "aircon=1\n",
    "broken_desk=-1"
   ]
  },
  {
   "cell_type": "code",
   "execution_count": 29,
   "id": "80575738-7bec-4e9e-bc4b-78bcb0e9e255",
   "metadata": {},
   "outputs": [],
   "source": [
    "\"\"\"\n",
    "Data types:Real numbers\n",
    "\"\"\"\n",
    "\n",
    "win_probability=1.5\n",
    "mycar_version=2.5\n",
    "my_grade=3.5\n",
    "\n"
   ]
  },
  {
   "cell_type": "code",
   "execution_count": 30,
   "id": "d6978a60-8d59-484b-842b-e3235ae199bf",
   "metadata": {},
   "outputs": [],
   "source": [
    "\"\"\"\n",
    "Strings\n",
    "\"\"\"\n",
    "\n",
    "favorite_person=\"ancelotti\"\n",
    "favorite_country=\"Canada\"\n",
    "favorite_football_club=\"Real Madrid\"\n"
   ]
  },
  {
   "cell_type": "code",
   "execution_count": 32,
   "id": "5f132321-b0ae-4de1-833a-353f3d9dc14e",
   "metadata": {},
   "outputs": [
    {
     "name": "stdout",
     "output_type": "stream",
     "text": [
      "10\n"
     ]
    }
   ],
   "source": [
    "\"\"\"\n",
    "Plus-Equals Operations\n",
    "\"\"\"\n",
    "\n",
    "a=8\n",
    "a+=2\n",
    "print(a)"
   ]
  },
  {
   "cell_type": "code",
   "execution_count": 1,
   "id": "40816734-a389-443c-98ce-6354d8358dd5",
   "metadata": {},
   "outputs": [
    {
     "name": "stdout",
     "output_type": "stream",
     "text": [
      "Hsu\n"
     ]
    }
   ],
   "source": [
    "\"\"\"\n",
    "Name Error\n",
    "\"\"\"\n",
    "\n",
    "\n",
    "my_school=\"Hsu\"\n",
    "print(my_school)\n"
   ]
  },
  {
   "cell_type": "code",
   "execution_count": 7,
   "id": "2ad322b5-3b88-41fa-8120-760ba5b2c005",
   "metadata": {},
   "outputs": [
    {
     "name": "stdout",
     "output_type": "stream",
     "text": [
      "<class 'bool'>\n",
      "<class 'float'>\n"
     ]
    }
   ],
   "source": [
    "is_tested=True\n",
    "print(type(is_tested)) #변수가 어떤 데이터 타입인지를 알려주는 함수\n",
    "\n",
    "a=3.14\n",
    "print(type(a))"
   ]
  },
  {
   "cell_type": "code",
   "execution_count": 10,
   "id": "ce4455ec-23b3-43b3-ba70-2dee8a1de544",
   "metadata": {},
   "outputs": [
    {
     "name": "stdout",
     "output_type": "stream",
     "text": [
      "True\n",
      "True\n",
      "False\n"
     ]
    }
   ],
   "source": [
    "#1\n",
    "print(\"Yes\"=='Yes')\n",
    "\n",
    "#2\n",
    "print((2>1)==(5<10))\n",
    "\n",
    "#3\n",
    "c='2'\n",
    "d=2\n",
    "print(c==d)"
   ]
  },
  {
   "cell_type": "code",
   "execution_count": 15,
   "id": "fff179fb-13e1-4e40-8817-cdbfd70db1a7",
   "metadata": {},
   "outputs": [
    {
     "data": {
      "text/plain": [
       "True"
      ]
     },
     "execution_count": 15,
     "metadata": {},
     "output_type": "execute_result"
    }
   ],
   "source": [
    "True or True\n"
   ]
  },
  {
   "cell_type": "code",
   "execution_count": 17,
   "id": "f174a331-df0d-46c8-b0b9-416728624bdc",
   "metadata": {},
   "outputs": [
    {
     "data": {
      "text/plain": [
       "True"
      ]
     },
     "execution_count": 17,
     "metadata": {},
     "output_type": "execute_result"
    }
   ],
   "source": [
    "True or False\n"
   ]
  },
  {
   "cell_type": "code",
   "execution_count": 19,
   "id": "295beb15-6886-4570-b9fc-185fc895a1a9",
   "metadata": {},
   "outputs": [
    {
     "data": {
      "text/plain": [
       "False"
      ]
     },
     "execution_count": 19,
     "metadata": {},
     "output_type": "execute_result"
    }
   ],
   "source": [
    "False or False\n"
   ]
  },
  {
   "cell_type": "code",
   "execution_count": 21,
   "id": "d1d76526-b314-44da-8414-d59fe4545e9c",
   "metadata": {},
   "outputs": [
    {
     "data": {
      "text/plain": [
       "True"
      ]
     },
     "execution_count": 21,
     "metadata": {},
     "output_type": "execute_result"
    }
   ],
   "source": [
    "1<2 or 3<1\n"
   ]
  },
  {
   "cell_type": "code",
   "execution_count": 22,
   "id": "e76e1c97-8fa6-454d-8512-72064f8e80f8",
   "metadata": {},
   "outputs": [
    {
     "data": {
      "text/plain": [
       "False"
      ]
     },
     "execution_count": 22,
     "metadata": {},
     "output_type": "execute_result"
    }
   ],
   "source": [
    "3<1 or 1>6\n"
   ]
  },
  {
   "cell_type": "code",
   "execution_count": 24,
   "id": "478d1857-3bf1-4b1a-9c4a-e8842755d194",
   "metadata": {},
   "outputs": [
    {
     "data": {
      "text/plain": [
       "True"
      ]
     },
     "execution_count": 24,
     "metadata": {},
     "output_type": "execute_result"
    }
   ],
   "source": [
    "1==1 or 1<2"
   ]
  },
  {
   "cell_type": "code",
   "execution_count": 29,
   "id": "6d771c58-1b4a-4970-a7aa-3f80db20bea4",
   "metadata": {},
   "outputs": [
    {
     "ename": "IndentationError",
     "evalue": "expected an indented block (<ipython-input-29-27acc81a408d>, line 13)",
     "output_type": "error",
     "traceback": [
      "\u001b[1;36m  File \u001b[1;32m\"<ipython-input-29-27acc81a408d>\"\u001b[1;36m, line \u001b[1;32m13\u001b[0m\n\u001b[1;33m    print(\"말티즈 새끼예요\")\u001b[0m\n\u001b[1;37m    ^\u001b[0m\n\u001b[1;31mIndentationError\u001b[0m\u001b[1;31m:\u001b[0m expected an indented block\n"
     ]
    }
   ],
   "source": [
    "\"\"\"\n",
    "conditional statements\n",
    "\n",
    "\"\"\"\n",
    "\n",
    "puppy=\"maltepoo\"\n",
    "age=1\n",
    "is_yes=False\n",
    "\n",
    "if puppy==\"maltese\":\n",
    "    is_yes=True\n",
    "    if age<3:\n",
    "    print(\"말티즈 새끼예요\")\n",
    "\n",
    "elif puppy==\"poodle\":\n",
    "    is_yes=True\n",
    "    print(\"푸들맞아요\")\n",
    "    \n",
    "    else:\n",
    "        is_yes=True\n",
    "        print\n",
    "    \n",
    "    \n",
    "    \n",
    "    print(is_yes)\n"
   ]
  },
  {
   "cell_type": "code",
   "execution_count": 2,
   "id": "cddde4c0-aaab-4a99-8010-dc9e20f2546d",
   "metadata": {},
   "outputs": [
    {
     "name": "stdout",
     "output_type": "stream",
     "text": [
      "[Error]\n",
      "Continue\n"
     ]
    }
   ],
   "source": [
    "\"\"\"\n",
    "Exception Handling\n",
    "\"\"\"\n",
    "x=1\n",
    "\n",
    "try:\n",
    "    print(y)\n",
    "    print(x)\n",
    "except:\n",
    "    print('[Error]')\n",
    "    \n",
    "    print(\"Continue\")"
   ]
  },
  {
   "cell_type": "code",
   "execution_count": 6,
   "id": "7212c68d-0087-45c3-bfea-135f6fc8e3e1",
   "metadata": {},
   "outputs": [
    {
     "name": "stdout",
     "output_type": "stream",
     "text": [
      "[2, 3, 5, 7, 11, 2]\n",
      "[]\n"
     ]
    }
   ],
   "source": [
    "\"\"\"\n",
    "List\n",
    "\"\"\"\n",
    "\n",
    "primes=[2,3,5,7,11,2]\n",
    "print(primes)\n",
    "\n",
    "empty_list=[]\n",
    "print(empty_list)"
   ]
  },
  {
   "cell_type": "code",
   "execution_count": 10,
   "id": "eec6b6a0-302e-485d-9333-38fa77190aad",
   "metadata": {},
   "outputs": [
    {
     "name": "stdout",
     "output_type": "stream",
     "text": [
      "['Jenny', 1, 1.4, True]\n"
     ]
    }
   ],
   "source": [
    "\"\"\"\n",
    "Multiple different data types\n",
    "\"\"\"\n",
    "mixed=['Jenny',1,1.4,True]\n",
    "print(mixed)\n",
    "list_of_list=[['a',1],['b',2]]"
   ]
  },
  {
   "cell_type": "code",
   "execution_count": 12,
   "id": "5029d034-301e-4b99-91fe-126360919dd0",
   "metadata": {},
   "outputs": [
    {
     "name": "stdout",
     "output_type": "stream",
     "text": [
      "Roger\n",
      "Rafael\n",
      "Andy\n",
      "Novak\n"
     ]
    }
   ],
   "source": [
    "\"\"\"\n",
    "Zeor-Indexing\n",
    "\"\"\"\n",
    "\n",
    "names=['Roger','Rafael','Andy','Novak']\n",
    "print(names[0]) #first data\n",
    "print(names[1])\n",
    "print(names[2])\n",
    "print(names[3])"
   ]
  },
  {
   "cell_type": "code",
   "execution_count": 4,
   "id": "1ba9fb21-37f3-49fe-b892-0a2c9f292bb8",
   "metadata": {},
   "outputs": [
    {
     "name": "stdout",
     "output_type": "stream",
     "text": [
      "Novak\n",
      "Andy\n",
      "Rafael\n",
      "Roger\n"
     ]
    }
   ],
   "source": [
    "\"\"\"\n",
    "Negative indexing\n",
    "\"\"\"\n",
    "names=['Roger','Rafael','Andy','Novak']\n",
    "print(names[-1])#Last data\n",
    "print(names[-2])\n",
    "print(names[-3])\n",
    "print(names[-4])"
   ]
  },
  {
   "cell_type": "code",
   "execution_count": 13,
   "id": "7baa9acd-d630-4d11-b18d-3ec84babc434",
   "metadata": {},
   "outputs": [
    {
     "name": "stdout",
     "output_type": "stream",
     "text": [
      "['생활관', '필헌관', '소통관']\n",
      "['만우관', '장공관', '필헌관', '소통관', '송암관', '늦봄관', '장준하통일관']\n",
      "['만우관', '장공관', '필헌관', '소통관', '송암관', '늦봄관', '장준하통일관']\n"
     ]
    }
   ],
   "source": [
    "\"\"\"\n",
    "List Slicing\n",
    "\"\"\"\n",
    "hsu_buildings=['만우관','장공관','필헌관','소통관','송암관','늦봄관','장준하통일관']\n",
    "building_slice=hsu_buildings[1:4]#독립적인 객체\n",
    "building_slice[0]='생활관'\n",
    "\n",
    "print(building_slice)\n",
    "print(hsu_buildings)#생활관을 0번으로 해도 원본 값 변화x\n",
    "print(hsu_buildings)#전체 출력"
   ]
  },
  {
   "cell_type": "code",
   "execution_count": 16,
   "id": "54f3b636-a1c7-4eab-b712-60f7f5ca1d8c",
   "metadata": {},
   "outputs": [
    {
     "name": "stdout",
     "output_type": "stream",
     "text": [
      "중화비빔밥\n",
      "['해우리', '한식', '해우라면']\n"
     ]
    }
   ],
   "source": [
    "\"\"\"\n",
    "Multi-dimensional Lists\n",
    "\"\"\"\n",
    "restaurants=[['해우리','한식','고s'],['짜장명가','중식','중화비빔밥'],['찌개동아리','한식','제육전골'],['맘스터치','양식','싸이버거']]\n",
    "print(restaurants[1][2])\n",
    "\n",
    "restaurants[0][2]='해우라면'#고s에서 해우라면으로 바뀜\n",
    "print(restaurants[0])"
   ]
  },
  {
   "cell_type": "code",
   "execution_count": 20,
   "id": "774e15ff-fd3b-4c00-83e4-e493197291b8",
   "metadata": {},
   "outputs": [
    {
     "name": "stdout",
     "output_type": "stream",
     "text": [
      "['cake', 'cookie', 'bread', 'biscuit', 'tart']\n"
     ]
    }
   ],
   "source": [
    "\"\"\"\n",
    "Adding Lists Together\n",
    "\"\"\"\n",
    "\n",
    "items_one=['cake','cookie','bread']\n",
    "items_two=['biscuit','tart']\n",
    "\n",
    "total_items=items_one+items_two\n",
    "print(total_items)"
   ]
  },
  {
   "cell_type": "code",
   "execution_count": 29,
   "id": "31801aea-9a83-494d-a9a9-40bced3a1241",
   "metadata": {},
   "outputs": [
    {
     "name": "stdout",
     "output_type": "stream",
     "text": [
      "5\n",
      "3\n",
      "['daisies', 'periwinkle', 'tulips']\n",
      "['karla', 'Maxium', 'vikor', 'martin', 'isabella']\n",
      "[1, 2, 3, 4]\n",
      "['늦봄관', '만우관', '소통관', '송암관', '장공관', '장준하통일관', '필헌관']\n"
     ]
    }
   ],
   "source": [
    "\"\"\"\n",
    "Useful Method for Lists\n",
    "\"\"\"\n",
    "\n",
    "#Len()\n",
    "knapsack=[2,4,3,7,10]\n",
    "size=len(knapsack)\n",
    "print(size)\n",
    "\n",
    "#count()\n",
    "backpack=['pencil','pen','notebook','textbook','pen','highlighter','pen'] \n",
    "numPen=backpack.count('pen') #pen의 갯수\n",
    "\n",
    "print(numPen)\n",
    "\n",
    "#append()\n",
    "orders=['daisies','periwinkle']\n",
    "orders.append('tulips')\n",
    "\n",
    "print(orders)\n",
    "\n",
    "#insert()\n",
    "store_line=['karla','Maxium','martin','isabella']\n",
    "store_line.insert(2,'vikor')\n",
    "\n",
    "print(store_line)\n",
    "\n",
    "#sort()\n",
    "numbers=[4,2,1,3]\n",
    "numbers.sort()\n",
    "print(numbers)\n",
    "\n",
    "hsu_buildings=['만우관','장공관','필헌관','소통관','송암관','늦봄관','장준하통일관']\n",
    "hsu_buildings.sort()\n",
    "\n",
    "print(hsu_buildings)"
   ]
  },
  {
   "cell_type": "code",
   "execution_count": 5,
   "id": "d373fcf8-6cb7-4918-9417-edc2d9b143f1",
   "metadata": {},
   "outputs": [
    {
     "name": "stdout",
     "output_type": "stream",
     "text": [
      "1\n",
      "2\n",
      "3\n",
      "4\n",
      "5\n",
      "warning\n",
      "warning\n",
      "warning\n",
      "warning\n"
     ]
    }
   ],
   "source": [
    "\"\"\"\n",
    "for Loops\n",
    "\"\"\"\n",
    "\n",
    "nums=[1,2,3,4,5]\n",
    "for num in nums:\n",
    "    print(num)\n",
    "    \n",
    "#range()\n",
    "for i in range(4):\n",
    "    print(\"warning\")\n",
    "    "
   ]
  },
  {
   "cell_type": "code",
   "execution_count": 10,
   "id": "3ae7cceb-a8b8-4b08-940c-e1fde5b08dd3",
   "metadata": {},
   "outputs": [
    {
     "name": "stdout",
     "output_type": "stream",
     "text": [
      "1\n",
      "2\n",
      "4\n",
      "5\n",
      "2\n"
     ]
    }
   ],
   "source": [
    "\"\"\"\n",
    "continue Keyword\n",
    "\"\"\"\n",
    "\n",
    "nums=[1,2,-1,4,-5,5,2,-9]\n",
    "for num in nums:\n",
    "    #if num is negative, we skip it.\n",
    "    if num < 0:\n",
    "        continue\n",
    "    print(num)"
   ]
  },
  {
   "cell_type": "code",
   "execution_count": 12,
   "id": "4ca9bdb0-b236-47b9-90fb-9189ccd32fa3",
   "metadata": {},
   "outputs": [
    {
     "ename": "IndentationError",
     "evalue": "unindent does not match any outer indentation level (<tokenize>, line 10)",
     "output_type": "error",
     "traceback": [
      "\u001b[1;36m  File \u001b[1;32m\"<tokenize>\"\u001b[1;36m, line \u001b[1;32m10\u001b[0m\n\u001b[1;33m    print(play + \" is complete.\")\u001b[0m\n\u001b[1;37m    ^\u001b[0m\n\u001b[1;31mIndentationError\u001b[0m\u001b[1;31m:\u001b[0m unindent does not match any outer indentation level\n"
     ]
    }
   ],
   "source": [
    "\"\"\"\n",
    "break Keyword\n",
    "\"\"\"\n",
    "\n",
    "game_plays=['stage1','stage2','stage3','gameover','stage4','stage5']\n",
    "for play in game_plays:\n",
    "     if play =='gameover':  \n",
    "        print(\"game is over...\")\n",
    "        break\n",
    "    print(play + \" is complete.\")\n",
    "    "
   ]
  },
  {
   "cell_type": "code",
   "execution_count": 32,
   "id": "9d04d948-1c87-47fb-acf9-4a342de16ba0",
   "metadata": {},
   "outputs": [
    {
     "name": "stdout",
     "output_type": "stream",
     "text": [
      "[1, 2, 3, 4, 5, 6, 7, 8, 9, 10]\n"
     ]
    }
   ],
   "source": [
    "\"\"\"\n",
    "List comprehension including conditions\n",
    "\"\"\"\n",
    "\n",
    "one_to_ten = [i+1 for i in range(10)]\n",
    "print(one_to_ten)"
   ]
  },
  {
   "cell_type": "code",
   "execution_count": 35,
   "id": "75e6bbcc-363b-47e8-a290-e1b1c5a472ab",
   "metadata": {},
   "outputs": [
    {
     "name": "stdout",
     "output_type": "stream",
     "text": [
      "['해리케인', '은돔벨레']\n"
     ]
    }
   ],
   "source": [
    "\"\"\"\n",
    "List\n",
    "\"\"\"\n",
    "hotspurs=[['손흥민','A+'],['해리케인','F'],['은돔벨레','F'],['델레 알리','B'],['루카스 모우라','B+'],['에메르송','D']]\n",
    "\n",
    "poors=[player[0] for player in hotspurs if player[1]=='F']#f인 플레이어 출력\n",
    "print(poors)"
   ]
  },
  {
   "cell_type": "code",
   "execution_count": 38,
   "id": "79b4129c-06be-47a3-950d-baf1f8d91566",
   "metadata": {},
   "outputs": [
    {
     "name": "stdout",
     "output_type": "stream",
     "text": [
      "1 X 1 =1\n",
      "1 X 2 =2\n",
      "1 X 3 =3\n",
      "1 X 4 =4\n",
      "1 X 5 =5\n",
      "1 X 6 =6\n",
      "1 X 7 =7\n",
      "1 X 8 =8\n",
      "1 X 9 =9\n",
      "2 X 1 =2\n",
      "2 X 2 =4\n",
      "2 X 3 =6\n",
      "2 X 4 =8\n",
      "2 X 5 =10\n",
      "2 X 6 =12\n",
      "2 X 7 =14\n",
      "2 X 8 =16\n",
      "2 X 9 =18\n",
      "3 X 1 =3\n",
      "3 X 2 =6\n",
      "3 X 3 =9\n",
      "3 X 4 =12\n",
      "3 X 5 =15\n",
      "3 X 6 =18\n",
      "3 X 7 =21\n",
      "3 X 8 =24\n",
      "3 X 9 =27\n",
      "4 X 1 =4\n",
      "4 X 2 =8\n",
      "4 X 3 =12\n",
      "4 X 4 =16\n",
      "4 X 5 =20\n",
      "4 X 6 =24\n",
      "4 X 7 =28\n",
      "4 X 8 =32\n",
      "4 X 9 =36\n",
      "5 X 1 =5\n",
      "5 X 2 =10\n",
      "5 X 3 =15\n",
      "5 X 4 =20\n",
      "5 X 5 =25\n",
      "5 X 6 =30\n",
      "5 X 7 =35\n",
      "5 X 8 =40\n",
      "5 X 9 =45\n",
      "6 X 1 =6\n",
      "6 X 2 =12\n",
      "6 X 3 =18\n",
      "6 X 4 =24\n",
      "6 X 5 =30\n",
      "6 X 6 =36\n",
      "6 X 7 =42\n",
      "6 X 8 =48\n",
      "6 X 9 =54\n",
      "7 X 1 =7\n",
      "7 X 2 =14\n",
      "7 X 3 =21\n",
      "7 X 4 =28\n",
      "7 X 5 =35\n",
      "7 X 6 =42\n",
      "7 X 7 =49\n",
      "7 X 8 =56\n",
      "7 X 9 =63\n",
      "8 X 1 =8\n",
      "8 X 2 =16\n",
      "8 X 3 =24\n",
      "8 X 4 =32\n",
      "8 X 5 =40\n",
      "8 X 6 =48\n",
      "8 X 7 =56\n",
      "8 X 8 =64\n",
      "8 X 9 =72\n",
      "9 X 1 =9\n",
      "9 X 2 =18\n",
      "9 X 3 =27\n",
      "9 X 4 =36\n",
      "9 X 5 =45\n",
      "9 X 6 =54\n",
      "9 X 7 =63\n",
      "9 X 8 =72\n",
      "9 X 9 =81\n"
     ]
    }
   ],
   "source": [
    "\"\"\"\n",
    "Nested Loops\n",
    "\"\"\"\n",
    "\n",
    "one_to_nine=[i+1 for i in range(9)]\n",
    "\n",
    "for i in one_to_nine:\n",
    "    for j in one_to_nine:\n",
    "        print(\"%d X %d =%d\" %(i,j, i*j))\n"
   ]
  },
  {
   "cell_type": "code",
   "execution_count": 13,
   "id": "6e025d44-2fa1-442d-9caf-74a3143c45de",
   "metadata": {},
   "outputs": [
    {
     "name": "stdout",
     "output_type": "stream",
     "text": [
      "do something\n",
      "do something\n",
      "do something\n",
      "do something\n"
     ]
    }
   ],
   "source": [
    "x=1\n",
    "y=1\n",
    "\n",
    "while x <5:\n",
    "    print(\"do something\")\n",
    "    x+=1"
   ]
  },
  {
   "cell_type": "code",
   "execution_count": 14,
   "id": "dd98817c-4450-4a84-99a8-84ce7098e857",
   "metadata": {},
   "outputs": [
    {
     "name": "stdout",
     "output_type": "stream",
     "text": [
      "4\n"
     ]
    },
    {
     "data": {
      "text/plain": [
       "2"
      ]
     },
     "execution_count": 14,
     "metadata": {},
     "output_type": "execute_result"
    }
   ],
   "source": [
    "\"\"\"\n",
    "Funcitons vs Method\n",
    "\"\"\"\n",
    "\n",
    "def my_function(x):\n",
    "    return x+1\n",
    "my_function(1)\n",
    "\n",
    "y=3\n",
    "result=my_function(y)\n",
    "print(result)\n",
    "\n",
    "x=1\n",
    "\n",
    "class my_class:\n",
    "    def my_method(self):\n",
    "        return x+1\n",
    "    \n",
    "cls=my_class()\n",
    "cls.my_method()"
   ]
  },
  {
   "cell_type": "code",
   "execution_count": 11,
   "id": "8340cd8a-a647-4589-8839-e48f4bdb50b0",
   "metadata": {},
   "outputs": [
    {
     "name": "stdout",
     "output_type": "stream",
     "text": [
      "Hello everyone, my name is jeong hyun, i was born in 1997, and i live in osan.\n"
     ]
    }
   ],
   "source": [
    "\"\"\"\n",
    "Function Parameters\n",
    "\"\"\"\n",
    "\n",
    "def introduce_myself(name, birthyear, city):\n",
    "    print(\"Hello everyone, my name is %s, i was born in %d, and i live in %s.\"\\\n",
    "          % (name, birthyear, city))\n",
    "    \n",
    "introduce_myself(\"jeong hyun\", 1997, \"osan\")#argument"
   ]
  },
  {
   "cell_type": "code",
   "execution_count": 23,
   "id": "800877cd-af15-4124-89ac-aa3e8e8e9b20",
   "metadata": {},
   "outputs": [
    {
     "data": {
      "text/plain": [
       "'2020 is a leap year.'"
      ]
     },
     "execution_count": 23,
     "metadata": {},
     "output_type": "execute_result"
    }
   ],
   "source": [
    "\"\"\"\n",
    "Return Keyword\n",
    "\"\"\"\n",
    "\n",
    "#Leap year = 윤년(2월 29일)\n",
    "def check_leap_year(year):\n",
    "    if year % 4 == 0:\n",
    "        return \"%s is a leap year.\" % (year)\n",
    "    else:\n",
    "        return \"%s is not a leap year.\" % (year)\n",
    "\n",
    "check_leap_year(2020)  "
   ]
  },
  {
   "cell_type": "code",
   "execution_count": 24,
   "id": "5755c4f5-0c72-438d-9287-42cd570f1f5e",
   "metadata": {},
   "outputs": [
    {
     "name": "stdout",
     "output_type": "stream",
     "text": [
      "9 16 25\n"
     ]
    }
   ],
   "source": [
    "\"\"\"\n",
    "Returning Multiple Values\n",
    "\"\"\"\n",
    "\n",
    "def square_point(x,y,z):\n",
    "    x_squared=x**2\n",
    "    y_squared=y**2\n",
    "    z_squared=z**2\n",
    "    return x_squared, y_squared, z_squared\n",
    "three_squared, four_squared, five_squared=square_point(3,4,5)\n",
    "print(three_squared, four_squared, five_squared)"
   ]
  },
  {
   "cell_type": "code",
   "execution_count": 28,
   "id": "1c1b8fe1-346c-4f96-a66e-ce4da5d8111b",
   "metadata": {},
   "outputs": [
    {
     "name": "stdout",
     "output_type": "stream",
     "text": [
      "Hello\n"
     ]
    }
   ],
   "source": [
    "\"\"\"\n",
    "Global Variables\n",
    "\"\"\"\n",
    "\n",
    "a=\"Hello\"\n",
    "\n",
    "def prints_a():\n",
    "    print(a)\n",
    "\n",
    "prints_a()"
   ]
  },
  {
   "cell_type": "code",
   "execution_count": 35,
   "id": "2ba46971-a1d5-4efa-9365-a5a4aac1a1e7",
   "metadata": {},
   "outputs": [
    {
     "name": "stdout",
     "output_type": "stream",
     "text": [
      "3\n",
      "2\n"
     ]
    }
   ],
   "source": [
    "\"\"\"\n",
    "Local Variables  #원래 에러뜸\n",
    "\"\"\"\n",
    "\n",
    "def f1():\n",
    "    b=3 #local var.\n",
    "    print(b)\n",
    "    \n",
    "f1()\n",
    "print(b)"
   ]
  },
  {
   "cell_type": "code",
   "execution_count": 1,
   "id": "e4ab140a-6e37-4576-ba62-ad885d3f960c",
   "metadata": {},
   "outputs": [
    {
     "name": "stdout",
     "output_type": "stream",
     "text": [
      "height=1\n",
      "width=2\n",
      "depth=3\n",
      "6\n"
     ]
    }
   ],
   "source": [
    "\"\"\"\n",
    "Keyword arguments and Default Values\n",
    "\"\"\"\n",
    "\n",
    "def findvolume(height, width, depth):\n",
    "    print(\"height=%s\"%(height))\n",
    "    print(\"width=%s\"%(width))\n",
    "    print(\"depth=%s\"%(depth))\n",
    "    return height*width*depth\n",
    "        \n",
    "        #ex:height=1,w=2, d=3 바꿔도 됨\n",
    "print(findvolume(width=2,height=1,depth=3))"
   ]
  },
  {
   "cell_type": "code",
   "execution_count": 17,
   "id": "f1a4f09b-a2cc-44e2-b646-d9f72920408e",
   "metadata": {},
   "outputs": [],
   "source": [
    "import numpy as np\n",
    "import pandas as pd\n",
    "from matplotlib import pyplot as plt"
   ]
  },
  {
   "cell_type": "code",
   "execution_count": 18,
   "id": "3c58a6e8-2224-40eb-9010-4eb74b102129",
   "metadata": {},
   "outputs": [
    {
     "name": "stdout",
     "output_type": "stream",
     "text": [
      "[1 2 3 4]\n",
      "<class 'numpy.ndarray'>\n"
     ]
    }
   ],
   "source": [
    "#Creating a numpy Array\n",
    "lst=[1,2,3,4]\n",
    "\n",
    "arr=np.array(lst)\n",
    "print(arr)\n",
    "print(type(arr))"
   ]
  },
  {
   "cell_type": "code",
   "execution_count": 19,
   "id": "c66bf794-bf87-4f6a-8fc9-99a5658d070d",
   "metadata": {},
   "outputs": [
    {
     "name": "stdout",
     "output_type": "stream",
     "text": [
      "int32\n",
      "float64\n",
      "<U32\n"
     ]
    }
   ],
   "source": [
    "#.data attribute\n",
    "print(arr.dtype)\n",
    "lst=[1.1,1.2,2.5] #소수\n",
    "arr=np.array(lst)\n",
    "print(arr.dtype)\n",
    "\n",
    "a=np.array([1,1.4,\"1.1,1.2,2.5\"])\n",
    "print(a.dtype)"
   ]
  },
  {
   "cell_type": "code",
   "execution_count": 20,
   "id": "3b645485-2950-471f-a2db-ccdb3ce42c36",
   "metadata": {},
   "outputs": [
    {
     "name": "stdout",
     "output_type": "stream",
     "text": [
      "168\n",
      "160\n"
     ]
    }
   ],
   "source": [
    "\"\"\"\n",
    "Size Comparison of ndarray and list objects\n",
    "\"\"\"\n",
    "\n",
    "from sys import getsizeof\n",
    "\n",
    "lst=[1,2,3,4,5,6,7,8,9,10,11,12,13,14] #56->64, 8bytes증가\n",
    "print(getsizeof(lst))\n",
    "\n",
    "arr=np.array([1,2,3,4,5,6,7,8,9,10,11,12,13,14]) #96->100, int:4bytes  \n",
    "print(getsizeof(arr))  #14까지 입력하면 lst가 arr보다 큼"
   ]
  },
  {
   "cell_type": "code",
   "execution_count": 21,
   "id": "000f686e-2664-4c77-9b4b-27bfcfdbae1a",
   "metadata": {},
   "outputs": [
    {
     "name": "stdout",
     "output_type": "stream",
     "text": [
      "[25, 20, 35, 15, 15, 30, 45, 30]\n"
     ]
    },
    {
     "ename": "NameError",
     "evalue": "name 'prices_arr' is not defined",
     "output_type": "error",
     "traceback": [
      "\u001b[1;31m---------------------------------------------------------------------------\u001b[0m",
      "\u001b[1;31mNameError\u001b[0m                                 Traceback (most recent call last)",
      "\u001b[1;32m<ipython-input-21-94d678d4cd01>\u001b[0m in \u001b[0;36m<module>\u001b[1;34m\u001b[0m\n\u001b[0;32m     11\u001b[0m \u001b[1;31m#with a ndarray\u001b[0m\u001b[1;33m\u001b[0m\u001b[1;33m\u001b[0m\u001b[1;33m\u001b[0m\u001b[0m\n\u001b[0;32m     12\u001b[0m \u001b[0mprice_arr\u001b[0m\u001b[1;33m-=\u001b[0m\u001b[1;36m5\u001b[0m\u001b[1;33m\u001b[0m\u001b[1;33m\u001b[0m\u001b[0m\n\u001b[1;32m---> 13\u001b[1;33m \u001b[0mprint\u001b[0m\u001b[1;33m(\u001b[0m\u001b[0mprices_arr\u001b[0m\u001b[1;33m)\u001b[0m\u001b[1;33m\u001b[0m\u001b[1;33m\u001b[0m\u001b[0m\n\u001b[0m",
      "\u001b[1;31mNameError\u001b[0m: name 'prices_arr' is not defined"
     ]
    }
   ],
   "source": [
    "\"\"\"\n",
    "Operation with numpy arrays\n",
    "\"\"\"\n",
    "\n",
    "prices=[30,25,40,20,20,35,50,35]\n",
    "price_arr=np.array(prices)\n",
    "#with a list\n",
    "new_prices=[price-5 for price in prices]\n",
    "print(new_prices)\n",
    "\n",
    "#with a ndarray\n",
    "price_arr-=5\n",
    "print(prices_arr)"
   ]
  },
  {
   "cell_type": "code",
   "execution_count": 22,
   "id": "24be374a-3cb9-4533-8d6d-d5230f471aba",
   "metadata": {},
   "outputs": [
    {
     "name": "stdout",
     "output_type": "stream",
     "text": [
      "[89 87 74 92 94]\n",
      "[260 281 248 276 272]\n",
      "[86.66666667 93.66666667 82.66666667 92.         90.66666667]\n",
      "(3, 5)\n",
      "[[ 92  94  88  91  87]\n",
      " [ 79 100  86  93  91]\n",
      " [ 89  87  74  92  94]]\n",
      "93\n",
      "[94 88]\n",
      "[87 91 94]\n",
      "[87 91 94]\n"
     ]
    }
   ],
   "source": [
    "#실습 시험점수처리\n",
    "\n",
    "test_1=np.array([92,94,88,91,87])\n",
    "test_2=np.array([79,100,86,93,91])\n",
    "test_3=np.array([87,85,72,90,92])\n",
    "\n",
    "test_3_fixed=test_3 + 2\n",
    "print(test_3_fixed)\n",
    "\n",
    "total_grade=test_1+test_2+test_3_fixed\n",
    "print(total_grade)\n",
    "\n",
    "final_grade=total_grade/3\n",
    "print(final_grade)\n",
    "\n",
    "student_scores=np.array([test_1, test_2, test_3_fixed])\n",
    "print(student_scores.shape)\n",
    "\n",
    "student_scores=np.array([test_1, test_2, test_3_fixed])\n",
    "print(student_scores)\n",
    "\n",
    "jeremy_test_2=student_scores[1,3]\n",
    "print(jeremy_test_2)\n",
    "\n",
    "manual_adwoa_test_1=np.array([student_scores[0,1],student_scores[0,2]])\n",
    "print(manual_adwoa_test_1)\n",
    "\n",
    "print(student_scores[:,4])\n",
    "print(student_scores[:,-1])"
   ]
  },
  {
   "cell_type": "code",
   "execution_count": 23,
   "id": "46ac5893-d899-46d2-985b-193a33bcaaa6",
   "metadata": {},
   "outputs": [
    {
     "name": "stdout",
     "output_type": "stream",
     "text": [
      "[ True False False False False False  True  True  True  True]\n",
      "[10  9  8  9  7]\n",
      "[10  2  2  3  9  8  9  7]\n",
      "[4 5 7]\n"
     ]
    }
   ],
   "source": [
    "\"\"\"\n",
    "Logical Operatinos with Arrays\n",
    "\"\"\"\n",
    "\n",
    "#masking\n",
    "a=np.array([10,2,2,4,5,3,9,8,9,7])\n",
    "mask=a>5\n",
    "print(mask)\n",
    "\n",
    "#Select using Logical operations\n",
    "selected=a[a>5]\n",
    "print(selected)\n",
    "\n",
    "#Combined Logical operations\n",
    "\n",
    "selected=a[(a>5) | (a<4)]\n",
    "print(selected)\n",
    "\n",
    "selected=a[(a>3) & (a<8)]\n",
    "print(selected)"
   ]
  },
  {
   "cell_type": "code",
   "execution_count": 25,
   "id": "5a927475-164f-40b6-a36b-ee3d76d2ae80",
   "metadata": {},
   "outputs": [],
   "source": [
    "import numpy as np"
   ]
  },
  {
   "cell_type": "code",
   "execution_count": 24,
   "id": "f7fc86cd-381c-471c-8931-1fc82a0ad8ae",
   "metadata": {},
   "outputs": [
    {
     "name": "stdout",
     "output_type": "stream",
     "text": [
      "[0 1 2]\n",
      "[3 4 5 6 7 8]\n",
      "[3 5 7]\n"
     ]
    }
   ],
   "source": [
    "\"\"\"\n",
    "Numpy Array Attributes\n",
    "\"\"\"\n",
    "\n",
    "#creating an array\n",
    "\n",
    "print(np.arange(3))\n",
    "print(np.arange(3,9))\n",
    "print(np.arange(3,9,2))"
   ]
  },
  {
   "cell_type": "code",
   "execution_count": 26,
   "id": "467662c0-80ea-4c79-b190-d86741b4159f",
   "metadata": {},
   "outputs": [
    {
     "name": "stdout",
     "output_type": "stream",
     "text": [
      "[[[5 0 3 3 7]\n",
      "  [9 3 5 2 4]\n",
      "  [7 6 8 8 1]\n",
      "  [6 7 7 8 1]]\n",
      "\n",
      " [[5 9 8 9 4]\n",
      "  [3 0 3 5 0]\n",
      "  [2 3 8 1 3]\n",
      "  [3 3 7 0 1]]\n",
      "\n",
      " [[9 9 0 4 7]\n",
      "  [3 2 7 2 0]\n",
      "  [0 4 5 5 6]\n",
      "  [8 4 1 4 9]]]\n"
     ]
    }
   ],
   "source": [
    "#Random number generato 실행할떄마다 랜덤난수출력\n",
    "\n",
    "np.random.seed(0) #재실행해도 똑같은 난수 출력\n",
    "arr1=np.random.randint(10, size=(3,4,5)) #6입력하면 6개 나옴\n",
    "print(arr1)"
   ]
  },
  {
   "cell_type": "code",
   "execution_count": 33,
   "id": "3ebad389-2c88-4ebe-a358-84e4e9f5d960",
   "metadata": {},
   "outputs": [
    {
     "name": "stdout",
     "output_type": "stream",
     "text": [
      "[[5 8 9 5]\n",
      " [0 0 1 7]\n",
      " [6 9 2 4]]\n",
      "arr.ndim= 2\n",
      "arr.shape= (3, 4)\n",
      "arr.size= 12\n",
      "arr.dtype= int32\n",
      "arr.itemsize= 4\n",
      "arr.nbytes= 48\n"
     ]
    }
   ],
   "source": [
    "#Attributes\n",
    "\n",
    "np.random.seed(1)\n",
    "arr=np.random.randint(10, size=(3,4))\n",
    "print (arr)\n",
    "\n",
    "print(\"arr.ndim=\", arr.ndim)\n",
    "print(\"arr.shape=\", arr.shape)\n",
    "print(\"arr.size=\", arr.size)\n",
    "\n",
    "print(\"arr.dtype=\", arr.dtype)\n",
    "print(\"arr.itemsize=\", arr.itemsize)\n",
    "print(\"arr.nbytes=\", arr.nbytes) #getsizeof"
   ]
  },
  {
   "cell_type": "code",
   "execution_count": 35,
   "id": "4b481cb9-909c-4ab6-a738-0e9902cd8e61",
   "metadata": {},
   "outputs": [
    {
     "name": "stdout",
     "output_type": "stream",
     "text": [
      "[0 1 2 3 4 5 6 7 8 9]\n",
      "[3 4 5 6]\n",
      "[0 1 2 3 4]\n",
      "[5 6 7 8 9]\n",
      "[0 3 6 9]\n",
      "[2 4 6]\n"
     ]
    }
   ],
   "source": [
    "\"\"\"\n",
    "Slicing\n",
    "\"\"\"\n",
    "arr=np.arange(10)\n",
    "print(arr)\n",
    "\n",
    "print(arr[3:7])\n",
    "print(arr[:5])\n",
    "print(arr[5:])\n",
    "print(arr[::3])\n",
    "print(arr[2:8:2])"
   ]
  },
  {
   "cell_type": "code",
   "execution_count": 27,
   "id": "767dea26-2511-4aaa-b964-facd6ac24804",
   "metadata": {},
   "outputs": [
    {
     "name": "stdout",
     "output_type": "stream",
     "text": [
      "[[8 8 6 2 8 7 2 1]\n",
      " [5 4 4 5 7 3 6 4]\n",
      " [3 7 6 1 3 5 8 4]\n",
      " [6 3 9 2 0 4 2 4]\n",
      " [1 7 8 2 9 8 7 1]\n",
      " [6 8 5 9 9 9 3 0]]\n",
      "[[8 8 6 2 8 7 2 1]\n",
      " [5 4 4 5 7 3 6 4]\n",
      " [3 7 6 1 3 5 8 4]\n",
      " [6 3 9 2 0 4 2 4]\n",
      " [1 7 8 2 9 8 7 1]\n",
      " [6 8 5 9 9 9 3 0]]\n",
      "[[99  8]\n",
      " [ 5  4]]\n",
      "[[99  8]\n",
      " [ 5  4]]\n"
     ]
    }
   ],
   "source": [
    "# Multi-dimensional Subarrays\n",
    "\n",
    "np.random.seed(2)\n",
    "arr=np.random.randint(10, size=(6,8))\n",
    "print(arr)\n",
    "\n",
    "arr_sub=arr[:2,:2]\n",
    "print(arr)\n",
    "\n",
    "arr_sub[0,0]=99\n",
    "print(arr_sub)\n",
    "\n",
    "print(arr_sub)"
   ]
  },
  {
   "cell_type": "code",
   "execution_count": 28,
   "id": "31a9ad25-29be-4692-bb9a-994a6cb3d828",
   "metadata": {},
   "outputs": [
    {
     "name": "stdout",
     "output_type": "stream",
     "text": [
      "[[8 8 6 2 8 7 2 1]\n",
      " [5 4 4 5 7 3 6 4]\n",
      " [3 7 6 1 3 5 8 4]\n",
      " [6 3 9 2 0 4 2 4]\n",
      " [1 7 8 2 9 8 7 1]\n",
      " [6 8 5 9 9 9 3 0]]\n",
      "[[8 8]\n",
      " [5 4]]\n",
      "[[99  8]\n",
      " [ 5  4]]\n"
     ]
    },
    {
     "data": {
      "text/plain": [
       "<function print>"
      ]
     },
     "execution_count": 28,
     "metadata": {},
     "output_type": "execute_result"
    }
   ],
   "source": [
    "\"\"\"\n",
    "Subarrays as no-copy views\n",
    "\"\"\"\n",
    "\n",
    "np.random.seed(2)\n",
    "arr=np.random.randint(10, size=(6,8))\n",
    "print(arr)\n",
    "\n",
    "arr_sub=arr[:2,:2].copy()\n",
    "print(arr_sub)\n",
    "\n",
    "arr_sub[0,0]=99\n",
    "print(arr_sub)\n",
    "print"
   ]
  },
  {
   "cell_type": "code",
   "execution_count": 43,
   "id": "03be1273-3fc0-4430-b48a-747a303113a5",
   "metadata": {},
   "outputs": [
    {
     "name": "stdout",
     "output_type": "stream",
     "text": [
      "[1 2 3 4 5 6 7 8 9] \n",
      "\n",
      "[[1 2 3]\n",
      " [4 5 6]\n",
      " [7 8 9]] \n",
      "\n"
     ]
    }
   ],
   "source": [
    "\"\"\"\n",
    "Reshpaing of Arrays\n",
    "\"\"\"\n",
    "\n",
    "arr=np.arange(1,10)\n",
    "print(arr, '\\n')\n",
    "\n",
    "grid=arr.reshape(3,3)\n",
    "print(grid, '\\n')"
   ]
  },
  {
   "cell_type": "code",
   "execution_count": 29,
   "id": "3eb03dba-e57e-43fe-9c24-384bd7f713dc",
   "metadata": {},
   "outputs": [
    {
     "name": "stdout",
     "output_type": "stream",
     "text": [
      "[[1 2 3 4 5 6 7 8 9]\n",
      " [1 2 3 4 5 6 7 8 9]]\n",
      "[[1 2 3]\n",
      " [1 2 3]\n",
      " [4 5 6]\n",
      " [4 5 6]\n",
      " [7 8 9]\n",
      " [7 8 9]]\n",
      "[[1 2 3 4 5 6 7 8 9]\n",
      " [1 2 3 4 5 6 7 8 9]]\n"
     ]
    }
   ],
   "source": [
    "\"\"\"\n",
    "Array Concatenation\n",
    "\"\"\"\n",
    "#np.concatenate(), np.vstack(), np.hstack()\n",
    "\n",
    "arr_1=np.array([[1,2,3],[1,2,3]])\n",
    "arr_2=np.array([[4,5,6],[4,5,6]])\n",
    "arr_3=np.array([[7,8,9],[7,8,9]])\n",
    "\n",
    "arr_total=np.concatenate([arr_1, arr_2, arr_3], axis=1)\n",
    "print(arr_total)\n",
    "\n",
    "arr_total=np.vstack([arr_1, arr_2, arr_3])\n",
    "print(arr_total)\n",
    "\n",
    "arr_total=np.hstack([arr_1,arr_2, arr_3])\n",
    "print(arr_total)"
   ]
  },
  {
   "cell_type": "code",
   "execution_count": 30,
   "id": "c0d6c487-aa6c-45f5-abe4-bafc730a5aff",
   "metadata": {},
   "outputs": [
    {
     "name": "stdout",
     "output_type": "stream",
     "text": [
      "[1, 2, 3, 99, 99, 3, 2, 1] \n",
      "\n",
      "[1 2 3] [99 99] [3 2 1]\n"
     ]
    }
   ],
   "source": [
    "\"\"\"\n",
    "Array Splitting\n",
    "\"\"\"\n",
    "\n",
    "arr=[1,2,3,99,99,3,2,1]\n",
    "print(arr, '\\n')\n",
    "\n",
    "arr_1, arr_2, arr_3=np.split(arr,[3,5])  #[4]\n",
    "print(arr_1, arr_2, arr_3)"
   ]
  },
  {
   "cell_type": "code",
   "execution_count": 31,
   "id": "052b69d1-e062-4b6f-a894-23f915b0cee6",
   "metadata": {},
   "outputs": [],
   "source": [
    "#pdf_6\n",
    "import numpy as np"
   ]
  },
  {
   "cell_type": "code",
   "execution_count": 34,
   "id": "e79f48ba-5486-4824-a657-6705150f3eda",
   "metadata": {},
   "outputs": [],
   "source": [
    "\"\"\"\n",
    "Computing reciprocals in loops\n",
    "\"\"\"\n",
    "\n",
    "def compute_reciprocals(values):\n",
    "    output=np.empty(len(values))\n",
    "    for i in range(len(values)):\n",
    "        output[i]=1.0/values[i]\n",
    "        return output\n",
    "    \n",
    "    calues=np.random.randint(1,10,size=5)\n",
    "    print(values)\n",
    "    \n",
    "    compute_reciprocals(values)"
   ]
  },
  {
   "cell_type": "code",
   "execution_count": 39,
   "id": "b7c2245c-ffc9-42ee-847b-54d631ed67aa",
   "metadata": {},
   "outputs": [
    {
     "name": "stdout",
     "output_type": "stream",
     "text": [
      "10.4 µs ± 97.5 ns per loop (mean ± std. dev. of 7 runs, 100000 loops each)\n"
     ]
    }
   ],
   "source": [
    "\"\"\"\n",
    "comparison: loop vs ufuncs\n",
    "\"\"\"\n",
    "\n",
    "big_array=np.random.randint(1,100,size=1000000)\n",
    "\n",
    "#Looping on a big array\n",
    "%timeit compute_reciprocals(big_array)\n",
    "\n",
    "#magic function(e.g %i)"
   ]
  },
  {
   "cell_type": "code",
   "execution_count": 38,
   "id": "0c46aa26-c992-4bee-b220-0cd22e359776",
   "metadata": {},
   "outputs": [
    {
     "name": "stdout",
     "output_type": "stream",
     "text": [
      "2.07 ms ± 135 µs per loop (mean ± std. dev. of 7 runs, 100 loops each)\n"
     ]
    }
   ],
   "source": [
    "#vecotrized operation\n",
    "\n",
    "%timeit 1/ big_array"
   ]
  },
  {
   "cell_type": "code",
   "execution_count": 45,
   "id": "d994460a-7158-4220-8252-eb9b83427e1e",
   "metadata": {},
   "outputs": [
    {
     "name": "stdout",
     "output_type": "stream",
     "text": [
      "[5 8 9 5 0] [0 1 7 6 9]\n",
      "[1, 2, 3, 99, 99, 3, 2, 1]\n",
      "[ 3  7 14  9  7]\n",
      "[[2 4 5 2 4]\n",
      " [2 4 7 7 9]\n",
      " [1 7 0 6 9]]\n",
      "[[ 4 16 25  4 16]\n",
      " [ 4 16 49 49 81]\n",
      " [ 1 49  0 36 81]]\n"
     ]
    }
   ],
   "source": [
    "\"\"\"\n",
    "numpy.ufunc\n",
    "\"\"\"\n",
    "\n",
    "np.random.seed(1)\n",
    "arr1=np.random.randint(10, size=(5))\n",
    "arr2=np.random.randint(10, size=(5))\n",
    "print(arr1, arr2)\n",
    "\n",
    "arr1=arr1-2\n",
    "print(arr)\n",
    "\n",
    "arr3=arr1+arr2\n",
    "print(arr3)\n",
    "\n",
    "arr4=np.random.randint(10, size=(3,5))\n",
    "print(arr4)\n",
    "\n",
    "arr5=arr4**2\n",
    "print(arr5)"
   ]
  },
  {
   "cell_type": "code",
   "execution_count": 48,
   "id": "39460f95-cc32-48af-8f6a-2dffe92ca120",
   "metadata": {},
   "outputs": [
    {
     "name": "stdout",
     "output_type": "stream",
     "text": [
      "x     = [0 1 2 3]\n",
      "x+5= [5 6 7 8]\n",
      "x-5= [-5 -4 -3 -2]\n",
      "x*2= [0 2 4 6]\n",
      "x/2= [0.  0.5 1.  1.5]\n",
      "x**2= [0 1 4 9]\n"
     ]
    }
   ],
   "source": [
    "\"\"\"\n",
    "Ufunc:Array Arithmetic\n",
    "\"\"\"\n",
    "\n",
    "#Basic arithmetic opertations on an array\n",
    "x=np.arange(4)\n",
    "print(\"x     =\",x)\n",
    "print(\"x+5=\", x+5)\n",
    "print(\"x-5=\", x-5)\n",
    "print(\"x*2=\", x*2)\n",
    "print(\"x/2=\", x/2)\n",
    "print(\"x**2=\", x**2)"
   ]
  },
  {
   "cell_type": "code",
   "execution_count": 50,
   "id": "a508883e-8ec4-4d3a-bb4b-dcef94aa4a9b",
   "metadata": {},
   "outputs": [
    {
     "name": "stdout",
     "output_type": "stream",
     "text": [
      "[2 1 0 1 2]\n",
      "[5. 5. 2. 1.]\n"
     ]
    }
   ],
   "source": [
    "\"\"\"\n",
    "Ufunc ablsolute value\n",
    "\"\"\"\n",
    "\n",
    "x=np.array([-2,-1,0,1,2])\n",
    "print(np.abs(x))\n",
    "\n",
    "x=np.array([3-4j,4-3j,2+0j,0+1j])\n",
    "print(np.abs(x))"
   ]
  },
  {
   "cell_type": "code",
   "execution_count": 53,
   "id": "35c6aca9-0770-4244-8639-67246c98f1e5",
   "metadata": {},
   "outputs": [
    {
     "name": "stdout",
     "output_type": "stream",
     "text": [
      "[0.         1.57079633 3.14159265]\n",
      "[0.0000000e+00 1.0000000e+00 1.2246468e-16]\n",
      "[ 1.000000e+00  6.123234e-17 -1.000000e+00]\n",
      "[ 0.00000000e+00  1.63312394e+16 -1.22464680e-16]\n"
     ]
    }
   ],
   "source": [
    "\"\"\"\n",
    "Ufunc:Trigonometric functions\n",
    "\"\"\"\n",
    "\n",
    "theta=np.linspace(0, np.pi, 3)\n",
    "\n",
    "print(theta)\n",
    "\n",
    "print(np.sin(theta))\n",
    "print(np.cos(theta))\n",
    "print(np.tan(theta))"
   ]
  },
  {
   "cell_type": "code",
   "execution_count": 56,
   "id": "68e02c51-dcbd-4a03-b6f9-4fa33f6b1bb6",
   "metadata": {},
   "outputs": [
    {
     "name": "stdout",
     "output_type": "stream",
     "text": [
      "[1 2 3 4]\n",
      "10\n",
      "24\n"
     ]
    }
   ],
   "source": [
    "\"\"\"\n",
    "UFunc: Aggregation\n",
    "\"\"\"\n",
    "\n",
    "x=np.arange(1,5)\n",
    "print(x)\n",
    "\n",
    "aggr=np.add.reduce(x)\n",
    "print(aggr)\n",
    "\n",
    "#multiply\n",
    "aggr=np.multiply.reduce(x)\n",
    "print(aggr)"
   ]
  },
  {
   "cell_type": "code",
   "execution_count": 61,
   "id": "725b9e95-2b39-4f6f-b6ab-be03be350c3b",
   "metadata": {},
   "outputs": [
    {
     "name": "stdout",
     "output_type": "stream",
     "text": [
      "[ 1  2  3  4  5  6  7  8  9 10 11 12 13 14]\n",
      "[  1   3   6  10  15  21  28  36  45  55  66  78  91 105]\n",
      "[         1          2          6         24        120        720\n",
      "       5040      40320     362880    3628800   39916800  479001600\n",
      " 1932053504 1278945280]\n"
     ]
    }
   ],
   "source": [
    "#accumulate()\n",
    "\n",
    "x=np.arange(1,15)\n",
    "print(x)\n",
    "\n",
    "accum=np.add.accumulate(x)\n",
    "print(accum)\n",
    "\n",
    "accum=np.multiply.accumulate(x)\n",
    "print(accum)"
   ]
  },
  {
   "cell_type": "code",
   "execution_count": 66,
   "id": "3e7ffdf0-0ef5-466f-aba3-18e6dbe4a466",
   "metadata": {},
   "outputs": [
    {
     "name": "stdout",
     "output_type": "stream",
     "text": [
      "[0.4359949  0.02592623 0.54966248 ... 0.42048616 0.30789564 0.87024385]\n",
      "sum::= 49922.612009233395\n",
      "7.89 ms ± 52.6 µs per loop (mean ± std. dev. of 7 runs, 100 loops each)\n"
     ]
    }
   ],
   "source": [
    "#suming the calues in an array\n",
    "\n",
    "np.random.seed(2)\n",
    "arr=np.random.rand(100000) #rand(): create 0~1 real values\n",
    "\n",
    "print(arr)\n",
    "print('sum::=', np.sum(arr))\n",
    "\n",
    "%timeit sum(arr)"
   ]
  },
  {
   "cell_type": "code",
   "execution_count": 68,
   "id": "6e4e4816-fecf-45ec-b78c-d7cd8e24c727",
   "metadata": {},
   "outputs": [
    {
     "name": "stdout",
     "output_type": "stream",
     "text": [
      "30.2 µs ± 99.3 ns per loop (mean ± std. dev. of 7 runs, 10000 loops each)\n"
     ]
    }
   ],
   "source": [
    "%timeit np.sum(arr)"
   ]
  },
  {
   "cell_type": "code",
   "execution_count": 70,
   "id": "8b8c4e06-8298-407d-9049-0400b92ca35e",
   "metadata": {},
   "outputs": [
    {
     "name": "stdout",
     "output_type": "stream",
     "text": [
      "max= 0.9999869419091001\n",
      "min= 1.8354603294024052e-05\n",
      "mean= 0.49922612009233397\n",
      "median= 0.49893833891779144\n",
      "percentile= 0.49893833891779144\n",
      "False\n",
      "True\n"
     ]
    }
   ],
   "source": [
    "#other aggr. function\n",
    "print(\"max=\", np.max(arr))\n",
    "print(\"min=\", np.min(arr))\n",
    "print(\"mean=\", np.mean(arr))\n",
    "print(\"median=\", np.median(arr))\n",
    "print(\"percentile=\", np.percentile(arr,50))\n",
    "print(np.any(arr>1))\n",
    "print(np.all(arr>0))"
   ]
  },
  {
   "cell_type": "code",
   "execution_count": 74,
   "id": "ad503f3e-d587-455d-99ef-a2dabdf179e4",
   "metadata": {},
   "outputs": [
    {
     "name": "stdout",
     "output_type": "stream",
     "text": [
      "[[3 6 6 0]\n",
      " [9 8 4 7]\n",
      " [0 0 7 1]]\n",
      "[12 14 17  8]\n",
      "[15 28  8]\n"
     ]
    }
   ],
   "source": [
    "#multi dimensional aggregates\n",
    "\n",
    "np.random.seed(5)\n",
    "\n",
    "arr=np.random.randint(10, size=(3,4))\n",
    "print(arr)\n",
    "\n",
    "print(np.sum(arr, axis=0)) #세로방향 계산\n",
    "print(np.sum(arr, axis=1)) #세로방향 계산"
   ]
  }
 ],
 "metadata": {
  "kernelspec": {
   "display_name": "Python 3",
   "language": "python",
   "name": "python3"
  },
  "language_info": {
   "codemirror_mode": {
    "name": "ipython",
    "version": 3
   },
   "file_extension": ".py",
   "mimetype": "text/x-python",
   "name": "python",
   "nbconvert_exporter": "python",
   "pygments_lexer": "ipython3",
   "version": "3.8.8"
  }
 },
 "nbformat": 4,
 "nbformat_minor": 5
}
