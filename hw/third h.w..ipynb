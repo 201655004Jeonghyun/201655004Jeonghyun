{
 "cells": [
  {
   "cell_type": "code",
   "execution_count": 1,
   "id": "4b7677cf-d372-46f5-8cbe-222f9130245c",
   "metadata": {},
   "outputs": [
    {
     "name": "stdout",
     "output_type": "stream",
     "text": [
      "['bouffant', 'pixie', 'dreadlocks', 'crew', 'bowl', 'bob', 'mohawk', 'flattop']\n",
      "[30, 25, 40, 20, 20, 35, 50, 35]\n",
      "[2, 3, 5, 8, 4, 4, 6, 2]\n",
      "30\n",
      "25\n",
      "40\n",
      "20\n",
      "20\n",
      "35\n",
      "50\n",
      "35\n",
      "8\n"
     ]
    }
   ],
   "source": [
    "hairstyles=[\"bouffant\", \"pixie\", \"dreadlocks\", \"crew\", \"bowl\", \"bob\", \"mohawk\", \"flattop\"]\n",
    "print(hairstyles)\n",
    "\n",
    "prices=[30, 25, 40, 20, 20, 35, 50, 35]\n",
    "print(prices)\n",
    "\n",
    "last_week = [2, 3, 5, 8, 4, 4, 6, 2]\n",
    "print(last_week)\n",
    "\n",
    "total_price=0\n",
    "\n",
    "prices=[30, 25, 40, 20, 20, 35, 50, 35]\n",
    "for total_prices in prices:\n",
    "    print(total_prices)\n",
    "    \n",
    "prices=[30, 25, 40, 20, 20, 35, 50, 35]    \n",
    "average_price=len(prices)\n",
    "print(average_price)\n"
   ]
  }
 ],
 "metadata": {
  "kernelspec": {
   "display_name": "Python 3",
   "language": "python",
   "name": "python3"
  },
  "language_info": {
   "codemirror_mode": {
    "name": "ipython",
    "version": 3
   },
   "file_extension": ".py",
   "mimetype": "text/x-python",
   "name": "python",
   "nbconvert_exporter": "python",
   "pygments_lexer": "ipython3",
   "version": "3.8.8"
  }
 },
 "nbformat": 4,
 "nbformat_minor": 5
}
