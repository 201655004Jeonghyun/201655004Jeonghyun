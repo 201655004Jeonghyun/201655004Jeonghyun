{
 "cells": [
  {
   "cell_type": "code",
   "execution_count": 22,
   "id": "fbc7566c-50d4-4eda-a534-ef2c9afdc7f1",
   "metadata": {},
   "outputs": [
    {
     "name": "stdout",
     "output_type": "stream",
     "text": [
      "Lovely_loveseat. Tufted polyester blend on wood. 32 inches high x 40 inches wide x 30 inches deep. Red or White\n"
     ]
    }
   ],
   "source": [
    "#1.\n",
    "\n",
    "items=\"Lovely_loveseat. \"\n",
    "material= \"Tufted polyester blend on wood. \"\n",
    "inches=\"32 inches high x 40 inches wide x 30 inches deep. \"\n",
    "color=\"Red or White\"\n",
    "print(items +material +inches +color)"
   ]
  },
  {
   "cell_type": "code",
   "execution_count": 6,
   "id": "23588ed0-96d1-4d0d-89e6-8e7c050f6835",
   "metadata": {},
   "outputs": [
    {
     "name": "stdout",
     "output_type": "stream",
     "text": [
      "254.0\n"
     ]
    }
   ],
   "source": [
    "#2.\n",
    "\n",
    "lovely_loveseat_price=254.00\n",
    "print(lovely_loveseat_price)"
   ]
  },
  {
   "cell_type": "code",
   "execution_count": 23,
   "id": "56eb47a7-9ee6-4716-87fe-825f67def647",
   "metadata": {},
   "outputs": [
    {
     "name": "stdout",
     "output_type": "stream",
     "text": [
      "Stylish Settee. Faux leather on birch. 29.50 inches high x 54.75 inches wide x 28 inches deep. Black\n"
     ]
    }
   ],
   "source": [
    "#3.\n",
    "\n",
    "items=\"Stylish Settee. \"\n",
    "material= \"Faux leather on birch. \"\n",
    "inches=\"29.50 inches high x 54.75 inches wide x 28 inches deep. \"\n",
    "color=\"Black\"\n",
    "print(items + material + inches + color)"
   ]
  },
  {
   "cell_type": "code",
   "execution_count": 12,
   "id": "f8ae4b3f-4a0b-496f-83bf-07c8a84a84a8",
   "metadata": {},
   "outputs": [
    {
     "name": "stdout",
     "output_type": "stream",
     "text": [
      "180.5\n"
     ]
    }
   ],
   "source": [
    "#4.\n",
    "\n",
    "stylish_settee_price=180.50\n",
    "print(stylish_settee_price)"
   ]
  },
  {
   "cell_type": "code",
   "execution_count": 24,
   "id": "bbd7e072-02ad-43e2-825d-4838de69daab",
   "metadata": {},
   "outputs": [
    {
     "name": "stdout",
     "output_type": "stream",
     "text": [
      "Stylish Settee. Glass and iron. 36 inches tall. Brown with cream shade\n"
     ]
    }
   ],
   "source": [
    "#5.\n",
    "\n",
    "item=\"Luxurious Lamp. \"\n",
    "material= \"Glass and iron. \"\n",
    "inches=\"36 inches tall. \"\n",
    "color=\"Brown with cream shade\"\n",
    "print(items + material + inches + color)"
   ]
  },
  {
   "cell_type": "code",
   "execution_count": 19,
   "id": "8e53d578-3fe9-4020-bafe-2672cf0eb14c",
   "metadata": {},
   "outputs": [
    {
     "name": "stdout",
     "output_type": "stream",
     "text": [
      "52.15\n"
     ]
    }
   ],
   "source": [
    "#6.\n",
    "\n",
    "luxurious_lamp_price=52.15\n",
    "print(luxurious_lamp_price)"
   ]
  },
  {
   "cell_type": "code",
   "execution_count": 4,
   "id": "451d64d0-f218-4530-ac5a-a85559c712f9",
   "metadata": {},
   "outputs": [
    {
     "name": "stdout",
     "output_type": "stream",
     "text": [
      "223.52\n",
      "158.84\n",
      "45.891999999999996\n"
     ]
    }
   ],
   "source": [
    "#7.\n",
    "\n",
    "sales_tax=.088\n",
    "lovely_loveseat=254.00*0.88\n",
    "stylish_settee=180.50*0.88\n",
    "luxurious_lamp=52.15*0.88\n",
    "print(lovely_loveseat)\n",
    "print(stylish_settee)\n",
    "print(luxurious_lamp)"
   ]
  },
  {
   "cell_type": "code",
   "execution_count": 25,
   "id": "375083de-f9bd-47c9-8915-6dd3b6988a78",
   "metadata": {},
   "outputs": [
    {
     "name": "stdout",
     "output_type": "stream",
     "text": [
      "0\n"
     ]
    }
   ],
   "source": [
    "#8\n",
    "\n",
    "customer_one_total=0\n",
    "print(customer_one_total)"
   ]
  },
  {
   "cell_type": "code",
   "execution_count": 26,
   "id": "53e10f12-2782-463d-90c1-2caab7277ec8",
   "metadata": {},
   "outputs": [
    {
     "name": "stdout",
     "output_type": "stream",
     "text": [
      "customer_one_itemization\n"
     ]
    }
   ],
   "source": [
    "#9.\n",
    "\n",
    "script=\"customer_one_itemization\"\n",
    "print(script)"
   ]
  },
  {
   "cell_type": "code",
   "execution_count": 1,
   "id": "cc8ce8d3-4180-4756-a2e5-46b9d92a0b55",
   "metadata": {},
   "outputs": [
    {
     "name": "stdout",
     "output_type": "stream",
     "text": [
      "customer_one_total=lovely_loveseat:254.00\n"
     ]
    }
   ],
   "source": [
    "#10.\n",
    "\n",
    "buy=\"customer_one_total=\"\n",
    "items=\"lovely_loveseat:254.00\"\n",
    "print(buy+items)"
   ]
  },
  {
   "cell_type": "code",
   "execution_count": 46,
   "id": "d8640e02-b5b4-4c68-a376-8c0590be9b50",
   "metadata": {},
   "outputs": [
    {
     "name": "stdout",
     "output_type": "stream",
     "text": [
      "Our items:\n",
      "Lovely_loveseat: Tufted polyester blend on wood. 32 inches high x 40 inches wide x 30 inches deep. Red or White\n",
      "Luxurious Lamp: Glass and iron. 36 inches tall. Brown with cream shade\n"
     ]
    }
   ],
   "source": [
    "#11.\n",
    "print(\"Our items:\")\n",
    "items=\"Lovely_loveseat: \"\n",
    "material= \"Tufted polyester blend on wood. \"\n",
    "inches=\"32 inches high x 40 inches wide x 30 inches deep. \"\n",
    "color=\"Red or White\"\n",
    "print(items +material +inches +color)\n",
    "\n",
    "#13\n",
    "items=\"Luxurious Lamp: \"\n",
    "material= \"Glass and iron. \"\n",
    "inches=\"36 inches tall. \"\n",
    "color=\"Brown with cream shade\"\n",
    "print(items + material + inches + color)"
   ]
  },
  {
   "cell_type": "code",
   "execution_count": 6,
   "id": "7046a657-46e6-488b-9695-4baee1f29a83",
   "metadata": {},
   "outputs": [
    {
     "name": "stdout",
     "output_type": "stream",
     "text": [
      "306.15\n"
     ]
    }
   ],
   "source": [
    "#12.\n",
    "\n",
    "total_price=254.00+52.15\n",
    "print(total_price)"
   ]
  },
  {
   "cell_type": "code",
   "execution_count": 9,
   "id": "de582f82-be6d-43ca-9b83-d110233d53e1",
   "metadata": {},
   "outputs": [
    {
     "ename": "NameError",
     "evalue": "name 'customer_one_total' is not defined",
     "output_type": "error",
     "traceback": [
      "\u001b[1;31m---------------------------------------------------------------------------\u001b[0m",
      "\u001b[1;31mNameError\u001b[0m                                 Traceback (most recent call last)",
      "\u001b[1;32m<ipython-input-9-ddecb0c4875a>\u001b[0m in \u001b[0;36m<module>\u001b[1;34m\u001b[0m\n\u001b[0;32m      1\u001b[0m \u001b[1;31m#14.\u001b[0m\u001b[1;33m\u001b[0m\u001b[1;33m\u001b[0m\u001b[1;33m\u001b[0m\u001b[0m\n\u001b[0;32m      2\u001b[0m \u001b[1;33m\u001b[0m\u001b[0m\n\u001b[1;32m----> 3\u001b[1;33m \u001b[0mcustomer_one_tax\u001b[0m \u001b[1;33m=\u001b[0m \u001b[0mcustomer_one_total\u001b[0m \u001b[1;33m*\u001b[0m \u001b[0msales_tax\u001b[0m\u001b[1;33m\u001b[0m\u001b[1;33m\u001b[0m\u001b[0m\n\u001b[0m\u001b[0;32m      4\u001b[0m \u001b[1;33m\u001b[0m\u001b[0m\n\u001b[0;32m      5\u001b[0m \u001b[1;31m#15.\u001b[0m\u001b[1;33m\u001b[0m\u001b[1;33m\u001b[0m\u001b[1;33m\u001b[0m\u001b[0m\n",
      "\u001b[1;31mNameError\u001b[0m: name 'customer_one_total' is not defined"
     ]
    }
   ],
   "source": [
    "#14.\n",
    "\n",
    "customer_one_tax = customer_one_total * sales_tax\n",
    "\n",
    "#15.\n",
    "\n",
    "customer_one_total += customer_one_tax\n",
    "\n",
    "#16.\n",
    "\n",
    "print(\"Customer One Items:\")\n",
    "\n",
    "#17.\n",
    "\n",
    "print(\"customer_one_itemization\")\n",
    "\n",
    "#18.\n",
    "\n",
    "print(\"customer_one_total:\")"
   ]
  },
  {
   "cell_type": "code",
   "execution_count": null,
   "id": "5fb6cd1b-3c01-4c2b-89fb-b8051e8d9c69",
   "metadata": {},
   "outputs": [],
   "source": []
  }
 ],
 "metadata": {
  "kernelspec": {
   "display_name": "Python 3",
   "language": "python",
   "name": "python3"
  },
  "language_info": {
   "codemirror_mode": {
    "name": "ipython",
    "version": 3
   },
   "file_extension": ".py",
   "mimetype": "text/x-python",
   "name": "python",
   "nbconvert_exporter": "python",
   "pygments_lexer": "ipython3",
   "version": "3.8.8"
  }
 },
 "nbformat": 4,
 "nbformat_minor": 5
}
