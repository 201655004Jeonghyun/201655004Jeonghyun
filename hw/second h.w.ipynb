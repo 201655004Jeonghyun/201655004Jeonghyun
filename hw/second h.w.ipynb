{
 "cells": [
  {
   "cell_type": "code",
   "execution_count": 51,
   "id": "b5c4bfbc-441b-467d-bea9-d178bbf02962",
   "metadata": {},
   "outputs": [
    {
     "name": "stdout",
     "output_type": "stream",
     "text": [
      "['physics', 'calculus', 'poetry', 'history']\n",
      "['98', '97', '85', '88']\n",
      "[['physics', 98], ['calculus', 97], ['poetry', 85], ['history', 88]]\n",
      "[['physics', 98], ['calculus', 97], ['poetry', 85], ['history', 88], ['computer science', 100]]\n",
      "[['physics', 98], ['calculus', 97], ['poetry', 85], ['history', 88], ['computer science', 100], ['visual arts', 93]]\n",
      "[['physics', 98], ['calculus', 97], ['poetry', 85], ['history', 88], ['computer science', 100], ['visual arts', 98]]\n",
      "[['physics', 98], ['calculus', 97], ['history', 88], ['computer science', 100], ['visual arts', 98]]\n",
      "[['physics', 98], ['calculus', 97], ['poetry', 'pass'], ['history', 88], ['computer science', 100], ['visual arts', 98]]\n",
      "[['politics', 80], ['latin', 96], ['dance', 97], ['architecture', 65]]\n",
      "[['politics', 80], ['latin', 96], ['dance', 97], ['architecture', 65], ['physics', 98], ['calculus', 97], ['poetry', 'pass'], ['history', 88], ['computer science', 100], ['visual arts', 98]]\n"
     ]
    }
   ],
   "source": [
    "#1.\n",
    "subjects=['physics','calculus','poetry','history']\n",
    "print(subjects)\n",
    "\n",
    "#2.\n",
    "grades=['98','97','85','88']\n",
    "print(grades)\n",
    "\n",
    "#3.\n",
    "gradebook=[['physics',98],['calculus',97],['poetry',85],['history',88]]\n",
    "print(gradebook)\n",
    "\n",
    "#5.\n",
    "\n",
    "gradebook.append(['computer science',100])\n",
    "print(gradebook)\n",
    "\n",
    "#6.\n",
    "\n",
    "gradebook.append(['visual arts',93])\n",
    "print(gradebook)\n",
    "\n",
    "#7.\n",
    "\n",
    "gradebook[5]=['visual arts',98]\n",
    "print(gradebook)\n",
    "\n",
    "#8.\n",
    "\n",
    "gradebook.remove(['poetry',85])\n",
    "print(gradebook)\n",
    "\n",
    "#9.\n",
    "\n",
    "gradebook.insert(2,['poetry','pass'])\n",
    "print(gradebook)\n",
    "\n",
    "#10.\n",
    "\n",
    "last_semester_gradebook = [[\"politics\", 80], [\"latin\", 96], [\"dance\", 97], [\"architecture\", 65]]\n",
    "print(last_semester_gradebook)\n",
    "\n",
    "#full_gradebook\n",
    "\n",
    "full_gradebook=last_semester_gradebook+gradebook\n",
    "print(full_gradebook)"
   ]
  }
 ],
 "metadata": {
  "kernelspec": {
   "display_name": "Python 3",
   "language": "python",
   "name": "python3"
  },
  "language_info": {
   "codemirror_mode": {
    "name": "ipython",
    "version": 3
   },
   "file_extension": ".py",
   "mimetype": "text/x-python",
   "name": "python",
   "nbconvert_exporter": "python",
   "pygments_lexer": "ipython3",
   "version": "3.8.8"
  }
 },
 "nbformat": 4,
 "nbformat_minor": 5
}
