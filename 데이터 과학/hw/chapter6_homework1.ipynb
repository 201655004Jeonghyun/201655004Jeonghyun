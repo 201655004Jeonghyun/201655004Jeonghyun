{
 "cells": [
  {
   "cell_type": "code",
   "execution_count": 1,
   "metadata": {},
   "outputs": [],
   "source": [
    "# 1. 기본 라이브러리 불러오기\n",
    "import cv2 # computer vision\n",
    "import numpy as np\n",
    "import matplotlib.pyplot as plt"
   ]
  },
  {
   "cell_type": "code",
   "execution_count": 2,
   "metadata": {},
   "outputs": [],
   "source": [
    "# 코딩할 부분\n",
    "# inp : gray image\n",
    "# mask : odd(홀수)\n",
    "def ImageConv(inp,mask):\n",
    "    n = mask.shape[0]\n",
    "    k = np.uint8((n-1)/2)\n",
    "    h,w = inp.shape\n",
    "\n",
    "    inp_pad = np.zeros((h+2*k, w+2*k))\n",
    "    inp_pad[k:h+k,k:w+k] = inp\n",
    "\n",
    "    out = np.zeros((h+2*k, w+2*k))\n",
    "    for i in range(k,h+k):\n",
    "        for j in range(k,w+k):\n",
    "            temp = inp_pad[i-k:i+k+1,j-k:j+k+1] # i : 1, k = 1\n",
    "            for x in range(0,n):\n",
    "                for y in range(0,n):\n",
    "                    out[i,j] += temp[x,y]*mask[x,y]\n",
    "    out = out[k:h+k,k:w+k]\n",
    "    return out"
   ]
  },
  {
   "cell_type": "code",
   "execution_count": 4,
   "metadata": {},
   "outputs": [
    {
     "name": "stdout",
     "output_type": "stream",
     "text": [
      "[[ 16.  30. 130.]\n",
      " [  5. 323.  27.]\n",
      " [ 31.   5.  14.]]\n"
     ]
    }
   ],
   "source": [
    "# 2. (numpy) 필터(mask) 생성하기 및 이미지 불러오기\n",
    "mask = np.array([[2,0,1],[0,1,2],[1,0,2]])\n",
    "inp = np.array([[1,2,3],[0,1,2],[3,0,1]])\n",
    "out = ImageConv(inp,mask)\n",
    "print(out)"
   ]
  }
 ],
 "metadata": {
  "kernelspec": {
   "display_name": "Python 3 (ipykernel)",
   "language": "python",
   "name": "python3"
  },
  "language_info": {
   "codemirror_mode": {
    "name": "ipython",
    "version": 3
   },
   "file_extension": ".py",
   "mimetype": "text/x-python",
   "name": "python",
   "nbconvert_exporter": "python",
   "pygments_lexer": "ipython3",
   "version": "3.8.12"
  }
 },
 "nbformat": 4,
 "nbformat_minor": 4
}
